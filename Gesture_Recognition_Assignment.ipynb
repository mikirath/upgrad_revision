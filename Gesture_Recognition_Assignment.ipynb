{
 "cells": [
  {
   "cell_type": "markdown",
   "metadata": {
    "id": "lJEk2t0rrzFi"
   },
   "source": [
    "# Gesture Recognition\n",
    "In this group project, you are going to build a 3D Conv model that will be able to predict the 5 gestures correctly. Please import the following libraries to get started."
   ]
  },
  {
   "cell_type": "code",
   "execution_count": 1,
   "metadata": {
    "id": "w4i_azPvrzFm"
   },
   "outputs": [],
   "source": [
    "import numpy as np\n",
    "import os\n",
    "from imageio import imread\n",
    "from skimage.transform import resize\n",
    "import datetime\n",
    "import os\n",
    "import matplotlib.pyplot as plt\n",
    "%matplotlib inline\n",
    "import warnings\n",
    "warnings.filterwarnings(\"ignore\")"
   ]
  },
  {
   "cell_type": "markdown",
   "metadata": {
    "id": "4NzcFLFfrzFp"
   },
   "source": [
    "We set the random seed so that the results don't vary drastically."
   ]
  },
  {
   "cell_type": "code",
   "execution_count": 2,
   "metadata": {
    "id": "pc15YTiErzFr"
   },
   "outputs": [],
   "source": [
    "np.random.seed(30)\n",
    "import random as rn\n",
    "rn.seed(30)\n",
    "from keras import backend as K\n",
    "import tensorflow as tf\n",
    "tf.random.set_seed(30)"
   ]
  },
  {
   "cell_type": "markdown",
   "metadata": {
    "id": "DxxBe68srzFt"
   },
   "source": [
    "In this block, you read the folder names for training and validation. You also set the `batch_size` here. Note that you set the batch size in such a way that you are able to use the GPU in full capacity. You keep increasing the batch size until the machine throws an error."
   ]
  },
  {
   "cell_type": "code",
   "execution_count": 3,
   "metadata": {
    "id": "hpyV8aYLrzFu"
   },
   "outputs": [],
   "source": [
    "train_doc = np.random.permutation(open('/home/datasets/Project_data/train.csv').readlines())\n",
    "val_doc = np.random.permutation(open('/home/datasets/Project_data/val.csv').readlines())\n",
    "batch_size = 32"
   ]
  },
  {
   "cell_type": "markdown",
   "metadata": {
    "id": "bhvJHZYQrzFv"
   },
   "source": [
    "## Generator - 1\n",
    "This is one of the most important part of the code. The overall structure of the generator has been given. In the generator, you are going to preprocess the images as you have images of 2 different dimensions as well as create a batch of video frames. You have to experiment with some of the parts of the generator function such that you get high accuracy."
   ]
  },
  {
   "cell_type": "code",
   "execution_count": 4,
   "metadata": {
    "id": "GbopkBX5rzFw"
   },
   "outputs": [],
   "source": [
    "def generator(source_path, folder_list, batch_size):\n",
    "    print( 'Source path = ', source_path, '; batch size =', batch_size)\n",
    "    img_idx = [0,1,2,4,6,8,10,12,14,16,18,20,22,24,26,27,28,29]\n",
    "    while True:\n",
    "        t = np.random.permutation(folder_list)\n",
    "        num_batches = int(len(t)/batch_size)\n",
    "        for batch in range(num_batches):\n",
    "            batch_data = np.zeros((batch_size,18,100,100,3))\n",
    "            batch_labels = np.zeros((batch_size,5))\n",
    "            for folder in range(batch_size):\n",
    "                imgs = os.listdir(source_path+'/'+ t[folder + (batch*batch_size)].split(';')[0])\n",
    "                for idx,item in enumerate(img_idx):\n",
    "                    image = imread(source_path+'/'+ t[folder + (batch*batch_size)].strip().split(';')[0]+'/'+imgs[item]).astype(np.float32)\n",
    "                    if image.shape[1] == 160:\n",
    "                        image = resize(image[:,20:140,:],(100,100)).astype(np.float32)\n",
    "                    else:\n",
    "                        image = resize(image,(100,100)).astype(np.float32)\n",
    "\n",
    "                    batch_data[folder,idx,:,:,0] = (image[:,:,0]) / 255.0  \n",
    "                    batch_data[folder,idx,:,:,1] = (image[:,:,1]) / 255.0  \n",
    "                    batch_data[folder,idx,:,:,2] = (image[:,:,2]) / 255.0 \n",
    "                    \n",
    "                    batch_data[folder,idx,:,:,0] = image[:,:,0] - 104\n",
    "                    batch_data[folder,idx,:,:,1] = image[:,:,1] - 117\n",
    "                    batch_data[folder,idx,:,:,2] = image[:,:,2] - 123\n",
    "                    \n",
    "                batch_labels[folder, int(t[folder + (batch*batch_size)].strip().split(';')[2])] = 1\n",
    "            yield batch_data, batch_labels\n",
    "\n",
    "        if (len(t)%batch_size) != 0:\n",
    "            batch_data = np.zeros((len(t)%batch_size,18,100,100,3))\n",
    "            batch_labels = np.zeros((len(t)%batch_size,5))\n",
    "            for folder in range(len(t)%batch_size):\n",
    "                imgs = os.listdir(source_path+'/'+ t[folder + (num_batches*batch_size)].split(';')[0])\n",
    "                for idx,item in enumerate(img_idx):\n",
    "                    image = imread(source_path+'/'+ t[folder + (num_batches*batch_size)].strip().split(';')[0]+'/'+imgs[item]).astype(np.float32)\n",
    "                    if image.shape[1] == 160:\n",
    "                        image = resize(image[:,20:140,:],(100,100)).astype(np.float32)\n",
    "                    else:\n",
    "                        image = resize(image,(100,100)).astype(np.float32)\n",
    "\n",
    "                    batch_data[folder,idx,:,:,0] = (image[:,:,0]) / 255.0  \n",
    "                    batch_data[folder,idx,:,:,1] = (image[:,:,1]) / 255.0  \n",
    "                    batch_data[folder,idx,:,:,2] = (image[:,:,2]) / 255.0 \n",
    "\n",
    "                    batch_data[folder,idx,:,:,0] = image[:,:,0] - 104\n",
    "                    batch_data[folder,idx,:,:,1] = image[:,:,1] - 117\n",
    "                    batch_data[folder,idx,:,:,2] = image[:,:,2] - 123\n",
    "\n",
    "                batch_labels[folder, int(t[folder + (num_batches*batch_size)].strip().split(';')[2])] = 1\n",
    "\n",
    "            yield batch_data, batch_labels"
   ]
  },
  {
   "cell_type": "code",
   "execution_count": 5,
   "metadata": {
    "colab": {
     "base_uri": "https://localhost:8080/"
    },
    "id": "tCLyQm4nrzFy",
    "outputId": "a27fc343-60a5-46d7-dd49-0554421fc002"
   },
   "outputs": [
    {
     "name": "stdout",
     "output_type": "stream",
     "text": [
      "# training sequences = 663\n",
      "# validation sequences = 100\n",
      "# epochs = 30\n"
     ]
    }
   ],
   "source": [
    "curr_dt_time = datetime.datetime.now()\n",
    "train_path = '/home/datasets/Project_data/train'\n",
    "val_path = '/home/datasets/Project_data/val'\n",
    "num_train_sequences = len(train_doc)\n",
    "print('# training sequences =', num_train_sequences)\n",
    "num_val_sequences = len(val_doc)\n",
    "print('# validation sequences =', num_val_sequences)\n",
    "num_epochs = 30\n",
    "print ('# epochs =', num_epochs)"
   ]
  },
  {
   "cell_type": "markdown",
   "metadata": {
    "id": "k5uODPDgrzF1"
   },
   "source": [
    "## Model with Conv3D and MaxPooling3D\n",
    "\n",
    "\n",
    "Here you make the model using different functionalities that Keras provides. Remember to use `Conv3D` and `MaxPooling3D` and not `Conv2D` and `Maxpooling2D`. Also remember that the last layer is the softmax. Remember that the network is designed in such a way that the model is able to fit in the memory of the webcam."
   ]
  },
  {
   "cell_type": "markdown",
   "metadata": {
    "id": "NjWzco_t4y96"
   },
   "source": [
    "**Batch size = 32**\n",
    "\n",
    "**Number of frames = 18**\n",
    "\n",
    "**Image width = 100**\n",
    "\n",
    "**Image height = 100**\n",
    "\n",
    "**Epochs = 30**\n",
    "\n",
    "**Activation function = relu**"
   ]
  },
  {
   "cell_type": "code",
   "execution_count": 6,
   "metadata": {
    "id": "izeYrKzNrzF2"
   },
   "outputs": [
    {
     "name": "stderr",
     "output_type": "stream",
     "text": [
      "2022-10-11 02:09:34.849809: W tensorflow/core/common_runtime/gpu/gpu_bfc_allocator.cc:39] Overriding allow_growth setting because the TF_FORCE_GPU_ALLOW_GROWTH environment variable is set. Original config value was 0.\n",
      "2022-10-11 02:09:34.849870: I tensorflow/core/common_runtime/gpu/gpu_device.cc:1525] Created device /job:localhost/replica:0/task:0/device:GPU:0 with 14803 MB memory:  -> device: 0, name: Quadro RTX 5000, pci bus id: 0000:40:00.0, compute capability: 7.5\n"
     ]
    }
   ],
   "source": [
    "from keras.models import Sequential\n",
    "from keras.layers import Dense, GRU, Dropout, Flatten, BatchNormalization, Activation\n",
    "from keras.layers.convolutional import Conv3D, MaxPooling3D\n",
    "from keras.callbacks import ModelCheckpoint, ReduceLROnPlateau\n",
    "from tensorflow.keras import optimizers\n",
    "\n",
    "model = Sequential()\n",
    "model.add(Conv3D(64, (3,3,3), strides=(1,1,1), padding='same', input_shape=(18,100,100,3)))\n",
    "model.add(BatchNormalization())\n",
    "model.add(Activation('relu'))\n",
    "model.add(MaxPooling3D(pool_size=(2,2,1), strides=(2,2,1)))\n",
    "\n",
    "model.add(Conv3D(128, (3,3,3), strides=(1,1,1), padding='same'))\n",
    "model.add(BatchNormalization())\n",
    "model.add(Activation('relu'))\n",
    "model.add(MaxPooling3D(pool_size=(2,2,2), strides=(2,2,2)))\n",
    "\n",
    "# model.add(Dropout(0.25))\n",
    "\n",
    "model.add(Conv3D(256, (3,3,3), strides=(1,1,1), padding='same'))\n",
    "model.add(BatchNormalization())\n",
    "model.add(Activation('relu'))\n",
    "model.add(MaxPooling3D(pool_size=(2,2,2), strides=(2,2,2)))\n",
    "\n",
    "# model.add(Dropout(0.25))\n",
    "\n",
    "model.add(Conv3D(256, (3,3,3), strides=(1,1,1), padding='same'))\n",
    "model.add(BatchNormalization())\n",
    "model.add(Activation('relu'))\n",
    "model.add(MaxPooling3D(pool_size=(2,2,2), strides=(2,2,2)))\n",
    "\n",
    "model.add(Flatten())\n",
    "model.add(Dropout(0.5))\n",
    "model.add(Dense(512, activation='relu'))\n",
    "model.add(Dropout(0.5))\n",
    "model.add(Dense(5, activation='softmax'))"
   ]
  },
  {
   "cell_type": "markdown",
   "metadata": {
    "id": "8--xsJc1rzF3"
   },
   "source": [
    "Now that you have written the model, the next step is to `compile` the model. When you print the `summary` of the model, you'll see the total number of parameters you have to train."
   ]
  },
  {
   "cell_type": "code",
   "execution_count": 7,
   "metadata": {
    "colab": {
     "base_uri": "https://localhost:8080/"
    },
    "id": "15TGoDDErzF4",
    "outputId": "a7a3c5c4-5325-4a83-c86e-142bb7b64ca6"
   },
   "outputs": [
    {
     "name": "stdout",
     "output_type": "stream",
     "text": [
      "Model: \"sequential\"\n",
      "_________________________________________________________________\n",
      " Layer (type)                Output Shape              Param #   \n",
      "=================================================================\n",
      " conv3d (Conv3D)             (None, 18, 100, 100, 64)  5248      \n",
      "                                                                 \n",
      " batch_normalization (BatchN  (None, 18, 100, 100, 64)  256      \n",
      " ormalization)                                                   \n",
      "                                                                 \n",
      " activation (Activation)     (None, 18, 100, 100, 64)  0         \n",
      "                                                                 \n",
      " max_pooling3d (MaxPooling3D  (None, 9, 50, 100, 64)   0         \n",
      " )                                                               \n",
      "                                                                 \n",
      " conv3d_1 (Conv3D)           (None, 9, 50, 100, 128)   221312    \n",
      "                                                                 \n",
      " batch_normalization_1 (Batc  (None, 9, 50, 100, 128)  512       \n",
      " hNormalization)                                                 \n",
      "                                                                 \n",
      " activation_1 (Activation)   (None, 9, 50, 100, 128)   0         \n",
      "                                                                 \n",
      " max_pooling3d_1 (MaxPooling  (None, 4, 25, 50, 128)   0         \n",
      " 3D)                                                             \n",
      "                                                                 \n",
      " conv3d_2 (Conv3D)           (None, 4, 25, 50, 256)    884992    \n",
      "                                                                 \n",
      " batch_normalization_2 (Batc  (None, 4, 25, 50, 256)   1024      \n",
      " hNormalization)                                                 \n",
      "                                                                 \n",
      " activation_2 (Activation)   (None, 4, 25, 50, 256)    0         \n",
      "                                                                 \n",
      " max_pooling3d_2 (MaxPooling  (None, 2, 12, 25, 256)   0         \n",
      " 3D)                                                             \n",
      "                                                                 \n",
      " conv3d_3 (Conv3D)           (None, 2, 12, 25, 256)    1769728   \n",
      "                                                                 \n",
      " batch_normalization_3 (Batc  (None, 2, 12, 25, 256)   1024      \n",
      " hNormalization)                                                 \n",
      "                                                                 \n",
      " activation_3 (Activation)   (None, 2, 12, 25, 256)    0         \n",
      "                                                                 \n",
      " max_pooling3d_3 (MaxPooling  (None, 1, 6, 12, 256)    0         \n",
      " 3D)                                                             \n",
      "                                                                 \n",
      " flatten (Flatten)           (None, 18432)             0         \n",
      "                                                                 \n",
      " dropout (Dropout)           (None, 18432)             0         \n",
      "                                                                 \n",
      " dense (Dense)               (None, 512)               9437696   \n",
      "                                                                 \n",
      " dropout_1 (Dropout)         (None, 512)               0         \n",
      "                                                                 \n",
      " dense_1 (Dense)             (None, 5)                 2565      \n",
      "                                                                 \n",
      "=================================================================\n",
      "Total params: 12,324,357\n",
      "Trainable params: 12,322,949\n",
      "Non-trainable params: 1,408\n",
      "_________________________________________________________________\n",
      "None\n"
     ]
    }
   ],
   "source": [
    "sgd = optimizers.SGD(lr=0.001, decay=1e-6, momentum=0.7, nesterov=True)\n",
    "model.compile(optimizer=sgd, loss='categorical_crossentropy', metrics=['categorical_accuracy'])\n",
    "print (model.summary())"
   ]
  },
  {
   "cell_type": "markdown",
   "metadata": {
    "id": "lgq4nVcUrzF5"
   },
   "source": [
    "Let us create the `train_generator` and the `val_generator` which will be used in `.fit_generator`."
   ]
  },
  {
   "cell_type": "code",
   "execution_count": 8,
   "metadata": {
    "id": "G2nPOteErzF7"
   },
   "outputs": [],
   "source": [
    "train_generator = generator(train_path, train_doc, batch_size)\n",
    "val_generator = generator(val_path, val_doc, batch_size)"
   ]
  },
  {
   "cell_type": "code",
   "execution_count": 9,
   "metadata": {
    "colab": {
     "base_uri": "https://localhost:8080/"
    },
    "id": "8yhKwWVtrzF7",
    "outputId": "baee7671-ce40-45fa-def7-cca793c45531"
   },
   "outputs": [
    {
     "name": "stdout",
     "output_type": "stream",
     "text": [
      "WARNING:tensorflow:`period` argument is deprecated. Please use `save_freq` to specify the frequency in number of batches seen.\n",
      "WARNING:tensorflow:`epsilon` argument is deprecated and will be removed, use `min_delta` instead.\n"
     ]
    }
   ],
   "source": [
    "model_name = 'model_init' + '_' + str(curr_dt_time).replace(' ','').replace(':','_') + '/'\n",
    "    \n",
    "if not os.path.exists(model_name):\n",
    "    os.mkdir(model_name)\n",
    "        \n",
    "filepath = model_name + 'model-{epoch:05d}-{loss:.5f}-{categorical_accuracy:.5f}-{val_loss:.5f}-{val_categorical_accuracy:.5f}.h5'\n",
    "\n",
    "checkpoint = ModelCheckpoint(filepath, monitor='val_loss', verbose=1, save_best_only=False, save_weights_only=False, mode='auto', period=1)\n",
    "\n",
    "LR = ReduceLROnPlateau(monitor='val_loss', factor=0.5, patience=2, verbose=1, mode='min', epsilon=0.0001, cooldown=0, min_lr=0.00001)\n",
    "callbacks_list = [checkpoint, LR]"
   ]
  },
  {
   "cell_type": "code",
   "execution_count": 10,
   "metadata": {
    "id": "bCtwa4N2rzF8"
   },
   "outputs": [],
   "source": [
    "if (num_train_sequences%batch_size) == 0:\n",
    "    steps_per_epoch = int(num_train_sequences/batch_size)\n",
    "else:\n",
    "    steps_per_epoch = (num_train_sequences//batch_size) + 1\n",
    "\n",
    "if (num_val_sequences%batch_size) == 0:\n",
    "    validation_steps = int(num_val_sequences/batch_size)\n",
    "else:\n",
    "    validation_steps = (num_val_sequences//batch_size) + 1"
   ]
  },
  {
   "cell_type": "markdown",
   "metadata": {
    "id": "-6Fv5_DArzF9"
   },
   "source": [
    "Let us now fit the model. This will start training the model and with the help of the checkpoints, you'll be able to save the model at the end of each epoch."
   ]
  },
  {
   "cell_type": "code",
   "execution_count": 11,
   "metadata": {
    "id": "6azU9KhZ2qUK",
    "outputId": "c8555e7b-73db-4f92-df7d-a72c97ad1bfd"
   },
   "outputs": [
    {
     "name": "stdout",
     "output_type": "stream",
     "text": [
      "Source path =  /home/datasets/Project_data/train ; batch size = 32\n",
      "Epoch 1/30\n"
     ]
    },
    {
     "name": "stderr",
     "output_type": "stream",
     "text": [
      "2022-10-11 02:09:40.240139: I tensorflow/stream_executor/cuda/cuda_dnn.cc:377] Loaded cuDNN version 8302\n"
     ]
    },
    {
     "name": "stdout",
     "output_type": "stream",
     "text": [
      "21/21 [==============================] - ETA: 0s - loss: 3.0594 - categorical_accuracy: 0.3288Source path =  /home/datasets/Project_data/val ; batch size = 32\n",
      "\n",
      "Epoch 00001: saving model to model_init_2022-10-1102_09_34.032725/model-00001-3.05943-0.32881-6.52299-0.23000.h5\n",
      "21/21 [==============================] - 107s 5s/step - loss: 3.0594 - categorical_accuracy: 0.3288 - val_loss: 6.5230 - val_categorical_accuracy: 0.2300 - lr: 0.0010\n",
      "Epoch 2/30\n",
      "21/21 [==============================] - ETA: 0s - loss: 1.4660 - categorical_accuracy: 0.4706\n",
      "Epoch 00002: saving model to model_init_2022-10-1102_09_34.032725/model-00002-1.46597-0.47059-3.86403-0.19000.h5\n",
      "21/21 [==============================] - 99s 5s/step - loss: 1.4660 - categorical_accuracy: 0.4706 - val_loss: 3.8640 - val_categorical_accuracy: 0.1900 - lr: 0.0010\n",
      "Epoch 3/30\n",
      "16/21 [=====================>........] - ETA: 18s - loss: 1.2233 - categorical_accuracy: 0.5098\n",
      "Epoch 00003: saving model to model_init_2022-10-1102_09_34.032725/model-00003-1.24372-0.50679-2.55350-0.28000.h5\n",
      "21/21 [==============================] - 95s 5s/step - loss: 1.2437 - categorical_accuracy: 0.5068 - val_loss: 2.5535 - val_categorical_accuracy: 0.2800 - lr: 0.0010\n",
      "Epoch 4/30\n",
      "21/21 [==============================] - ETA: 0s - loss: 1.0248 - categorical_accuracy: 0.5807\n",
      "Epoch 00004: saving model to model_init_2022-10-1102_09_34.032725/model-00004-1.02482-0.58069-2.04655-0.28000.h5\n",
      "21/21 [==============================] - 97s 5s/step - loss: 1.0248 - categorical_accuracy: 0.5807 - val_loss: 2.0466 - val_categorical_accuracy: 0.2800 - lr: 0.0010\n",
      "Epoch 5/30\n",
      "21/21 [==============================] - ETA: 0s - loss: 0.8307 - categorical_accuracy: 0.6621\n",
      "Epoch 00005: saving model to model_init_2022-10-1102_09_34.032725/model-00005-0.83069-0.66214-1.46766-0.48000.h5\n",
      "21/21 [==============================] - 97s 5s/step - loss: 0.8307 - categorical_accuracy: 0.6621 - val_loss: 1.4677 - val_categorical_accuracy: 0.4800 - lr: 0.0010\n",
      "Epoch 6/30\n",
      "21/21 [==============================] - ETA: 0s - loss: 0.7847 - categorical_accuracy: 0.6953\n",
      "Epoch 00006: saving model to model_init_2022-10-1102_09_34.032725/model-00006-0.78471-0.69532-1.13129-0.54000.h5\n",
      "21/21 [==============================] - 97s 5s/step - loss: 0.7847 - categorical_accuracy: 0.6953 - val_loss: 1.1313 - val_categorical_accuracy: 0.5400 - lr: 0.0010\n",
      "Epoch 7/30\n",
      "21/21 [==============================] - ETA: 0s - loss: 0.6803 - categorical_accuracy: 0.7345\n",
      "Epoch 00007: saving model to model_init_2022-10-1102_09_34.032725/model-00007-0.68034-0.73454-0.69532-0.80000.h5\n",
      "21/21 [==============================] - 96s 5s/step - loss: 0.6803 - categorical_accuracy: 0.7345 - val_loss: 0.6953 - val_categorical_accuracy: 0.8000 - lr: 0.0010\n",
      "Epoch 8/30\n",
      " 1/21 [>.............................] - ETA: 12s - loss: 0.7951 - categorical_accuracy: 0.6562\n",
      "Epoch 00008: saving model to model_init_2022-10-1102_09_34.032725/model-00008-0.67305-0.74510-0.62523-0.78000.h5\n",
      "21/21 [==============================] - 93s 5s/step - loss: 0.6731 - categorical_accuracy: 0.7451 - val_loss: 0.6252 - val_categorical_accuracy: 0.7800 - lr: 0.0010\n",
      "Epoch 9/30\n",
      "21/21 [==============================] - ETA: 0s - loss: 0.5883 - categorical_accuracy: 0.7602\n",
      "Epoch 00009: saving model to model_init_2022-10-1102_09_34.032725/model-00009-0.58834-0.76018-0.60487-0.81000.h5\n",
      "21/21 [==============================] - 95s 5s/step - loss: 0.5883 - categorical_accuracy: 0.7602 - val_loss: 0.6049 - val_categorical_accuracy: 0.8100 - lr: 0.0010\n",
      "Epoch 10/30\n",
      "21/21 [==============================] - ETA: 0s - loss: 0.5548 - categorical_accuracy: 0.7738\n",
      "Epoch 00010: saving model to model_init_2022-10-1102_09_34.032725/model-00010-0.55477-0.77376-0.63156-0.75000.h5\n",
      "21/21 [==============================] - 96s 5s/step - loss: 0.5548 - categorical_accuracy: 0.7738 - val_loss: 0.6316 - val_categorical_accuracy: 0.7500 - lr: 0.0010\n",
      "Epoch 11/30\n",
      "21/21 [==============================] - ETA: 0s - loss: 0.4618 - categorical_accuracy: 0.8265\n",
      "Epoch 00012: saving model to model_init_2022-10-1102_09_34.032725/model-00012-0.46182-0.82655-0.53488-0.79000.h5\n",
      "21/21 [==============================] - 92s 5s/step - loss: 0.4618 - categorical_accuracy: 0.8265 - val_loss: 0.5349 - val_categorical_accuracy: 0.7900 - lr: 0.0010\n",
      "Epoch 13/30\n",
      "21/21 [==============================] - ETA: 0s - loss: 0.4039 - categorical_accuracy: 0.8356\n",
      "Epoch 00013: saving model to model_init_2022-10-1102_09_34.032725/model-00013-0.40394-0.83560-0.52324-0.82000.h5\n",
      "21/21 [==============================] - 93s 5s/step - loss: 0.4039 - categorical_accuracy: 0.8356 - val_loss: 0.5232 - val_categorical_accuracy: 0.8200 - lr: 0.0010\n",
      "Epoch 14/30\n",
      "21/21 [==============================] - ETA: 0s - loss: 0.4042 - categorical_accuracy: 0.8356\n",
      "Epoch 00014: saving model to model_init_2022-10-1102_09_34.032725/model-00014-0.40421-0.83560-0.51081-0.83000.h5\n",
      "21/21 [==============================] - 96s 5s/step - loss: 0.4042 - categorical_accuracy: 0.8356 - val_loss: 0.5108 - val_categorical_accuracy: 0.8300 - lr: 0.0010\n",
      "Epoch 15/30\n",
      "21/21 [==============================] - ETA: 0s - loss: 0.3675 - categorical_accuracy: 0.8552\n",
      "Epoch 00015: saving model to model_init_2022-10-1102_09_34.032725/model-00015-0.36745-0.85520-0.52344-0.80000.h5\n",
      "21/21 [==============================] - 97s 5s/step - loss: 0.3675 - categorical_accuracy: 0.8552 - val_loss: 0.5234 - val_categorical_accuracy: 0.8000 - lr: 0.0010\n",
      "Epoch 16/30\n",
      "21/21 [==============================] - ETA: 0s - loss: 0.3461 - categorical_accuracy: 0.8688\n",
      "Epoch 00016: saving model to model_init_2022-10-1102_09_34.032725/model-00016-0.34610-0.86878-0.44957-0.84000.h5\n",
      "21/21 [==============================] - 91s 5s/step - loss: 0.3461 - categorical_accuracy: 0.8688 - val_loss: 0.4496 - val_categorical_accuracy: 0.8400 - lr: 0.0010\n",
      "Epoch 17/30\n",
      "21/21 [==============================] - ETA: 0s - loss: 0.3201 - categorical_accuracy: 0.8778\n",
      "Epoch 00017: saving model to model_init_2022-10-1102_09_34.032725/model-00017-0.32007-0.87783-0.42388-0.86000.h5\n",
      "21/21 [==============================] - 95s 5s/step - loss: 0.3201 - categorical_accuracy: 0.8778 - val_loss: 0.4239 - val_categorical_accuracy: 0.8600 - lr: 0.0010\n",
      "Epoch 18/30\n",
      "21/21 [==============================] - ETA: 0s - loss: 0.2948 - categorical_accuracy: 0.8748\n",
      "Epoch 00018: saving model to model_init_2022-10-1102_09_34.032725/model-00018-0.29476-0.87481-0.43998-0.87000.h5\n",
      "21/21 [==============================] - 95s 5s/step - loss: 0.2948 - categorical_accuracy: 0.8748 - val_loss: 0.4400 - val_categorical_accuracy: 0.8700 - lr: 0.0010\n",
      "Epoch 19/30\n",
      "21/21 [==============================] - ETA: 0s - loss: 0.2473 - categorical_accuracy: 0.9005\n",
      "Epoch 00019: saving model to model_init_2022-10-1102_09_34.032725/model-00019-0.24728-0.90045-0.46458-0.87000.h5\n",
      "\n",
      "Epoch 00019: ReduceLROnPlateau reducing learning rate to 0.0005000000237487257.\n",
      "21/21 [==============================] - 96s 5s/step - loss: 0.2473 - categorical_accuracy: 0.9005 - val_loss: 0.4646 - val_categorical_accuracy: 0.8700 - lr: 0.0010\n",
      "Epoch 20/30\n",
      "21/21 [==============================] - ETA: 0s - loss: 0.1983 - categorical_accuracy: 0.9336\n",
      "Epoch 00020: saving model to model_init_2022-10-1102_09_34.032725/model-00020-0.19831-0.93363-0.43632-0.86000.h5\n",
      "21/21 [==============================] - 92s 5s/step - loss: 0.1983 - categorical_accuracy: 0.9336 - val_loss: 0.4363 - val_categorical_accuracy: 0.8600 - lr: 5.0000e-04\n",
      "Epoch 21/30\n",
      "21/21 [==============================] - ETA: 0s - loss: 0.1764 - categorical_accuracy: 0.9336\n",
      "Epoch 00021: saving model to model_init_2022-10-1102_09_34.032725/model-00021-0.17638-0.93363-0.38978-0.85000.h5\n",
      "21/21 [==============================] - 96s 5s/step - loss: 0.1764 - categorical_accuracy: 0.9336 - val_loss: 0.3898 - val_categorical_accuracy: 0.8500 - lr: 5.0000e-04\n",
      "Epoch 22/30\n",
      "21/21 [==============================] - ETA: 0s - loss: 0.1673 - categorical_accuracy: 0.9367\n",
      "Epoch 00022: saving model to model_init_2022-10-1102_09_34.032725/model-00022-0.16729-0.93665-0.39439-0.88000.h5\n",
      "21/21 [==============================] - 95s 5s/step - loss: 0.1673 - categorical_accuracy: 0.9367 - val_loss: 0.3944 - val_categorical_accuracy: 0.8800 - lr: 5.0000e-04\n",
      "Epoch 23/30\n",
      "21/21 [==============================] - ETA: 0s - loss: 0.1822 - categorical_accuracy: 0.9351\n",
      "Epoch 00023: saving model to model_init_2022-10-1102_09_34.032725/model-00023-0.18219-0.93514-0.32479-0.90000.h5\n",
      "21/21 [==============================] - 96s 5s/step - loss: 0.1822 - categorical_accuracy: 0.9351 - val_loss: 0.3248 - val_categorical_accuracy: 0.9000 - lr: 5.0000e-04\n",
      "Epoch 24/30\n",
      "21/21 [==============================] - ETA: 0s - loss: 0.1730 - categorical_accuracy: 0.9442\n",
      "Epoch 00024: saving model to model_init_2022-10-1102_09_34.032725/model-00024-0.17304-0.94419-0.39210-0.86000.h5\n",
      "21/21 [==============================] - 93s 5s/step - loss: 0.1730 - categorical_accuracy: 0.9442 - val_loss: 0.3921 - val_categorical_accuracy: 0.8600 - lr: 5.0000e-04\n",
      "Epoch 25/30\n",
      "21/21 [==============================] - ETA: 0s - loss: 0.1231 - categorical_accuracy: 0.9563\n",
      "Epoch 00029: saving model to model_init_2022-10-1102_09_34.032725/model-00029-0.12310-0.95626-0.37816-0.89000.h5\n",
      "\n",
      "Epoch 00029: ReduceLROnPlateau reducing learning rate to 6.25000029685907e-05.\n",
      "21/21 [==============================] - 97s 5s/step - loss: 0.1231 - categorical_accuracy: 0.9563 - val_loss: 0.3782 - val_categorical_accuracy: 0.8900 - lr: 1.2500e-04\n",
      "Epoch 30/30\n",
      "21/21 [==============================] - ETA: 0s - loss: 0.1238 - categorical_accuracy: 0.9502\n",
      "Epoch 00030: saving model to model_init_2022-10-1102_09_34.032725/model-00030-0.12378-0.95023-0.16292-0.96000.h5\n",
      "21/21 [==============================] - 99s 5s/step - loss: 0.1238 - categorical_accuracy: 0.9502 - val_loss: 0.1629 - val_categorical_accuracy: 0.9600 - lr: 6.2500e-05\n"
     ]
    }
   ],
   "source": [
    "conv3d = model.fit_generator(train_generator, steps_per_epoch=steps_per_epoch, epochs=num_epochs, verbose=1, \n",
    "                    callbacks=callbacks_list, validation_data=val_generator, \n",
    "                    validation_steps=validation_steps, class_weight=None, workers=1, initial_epoch=0)"
   ]
  },
  {
   "cell_type": "code",
   "execution_count": 12,
   "metadata": {
    "id": "ac3Q21oND8K7"
   },
   "outputs": [],
   "source": [
    "model.save(\"GestureRecognition.h5\")"
   ]
  },
  {
   "cell_type": "code",
   "execution_count": 13,
   "metadata": {},
   "outputs": [
    {
     "data": {
      "text/plain": [
       "<matplotlib.legend.Legend at 0x7f408a7005b0>"
      ]
     },
     "execution_count": 13,
     "metadata": {},
     "output_type": "execute_result"
    },
    {
     "data": {
      "image/png": "[encoded data removed]",
      "text/plain": [
       "<Figure size 1440x432 with 2 Axes>"
      ]
     },
     "metadata": {
      "needs_background": "light"
     },
     "output_type": "display_data"
    }
   ],
   "source": [
    "plt.figure(figsize=(20,6))\n",
    "ax1 = plt.subplot(121)\n",
    "ax1 = plt.plot(conv3d.history['loss'])\n",
    "ax1 = plt.plot(conv3d.history['val_loss'])\n",
    "plt.title('model loss')\n",
    "plt.ylabel('loss')\n",
    "plt.xlabel('epoch')\n",
    "plt.legend(['train', 'validation'], loc='lower left')\n",
    "ax2 = plt.subplot(122)\n",
    "ax2 = plt.plot(conv3d.history['categorical_accuracy'])\n",
    "ax2 = plt.plot(conv3d.history['val_categorical_accuracy'])\n",
    "plt.title('model accuracy')\n",
    "plt.ylabel('categorical_accuracy')\n",
    "plt.xlabel('epoch')\n",
    "plt.legend(['train', 'validation'], loc='lower left')"
   ]
  },
  {
   "cell_type": "markdown",
   "metadata": {},
   "source": [
    "## Model 2"
   ]
  },
  {
   "cell_type": "code",
   "execution_count": null,
   "metadata": {
    "id": "BbtpedXXry8Q"
   },
   "outputs": [],
   "source": [
    "train_doc = np.random.permutation(open('/home/datasets/Project_data/train.csv').readlines())\n",
    "val_doc = np.random.permutation(open('/home/datasets/Project_data/val.csv').readlines())\n",
    "batch_size = 32"
   ]
  },
  {
   "cell_type": "markdown",
   "metadata": {
    "id": "QuJK_Wirry8R"
   },
   "source": [
    "## Generator - 2\n",
    "This is one of the most important part of the code. The overall structure of the generator has been given. In the generator, you are going to preprocess the images as you have images of 2 different dimensions as well as create a batch of video frames. You have to experiment with some of the parts of the generator function such that you get high accuracy."
   ]
  },
  {
   "cell_type": "code",
   "execution_count": null,
   "metadata": {
    "id": "S5E1zmplry8S"
   },
   "outputs": [],
   "source": [
    "def generator(source_path, folder_list, batch_size):\n",
    "    print( 'Source path = ', source_path, '; batch size =', batch_size)\n",
    "    img_idx = [0,2,4,6,8,10,12,14,16,18,20,22,24,26,28]\n",
    "    while True:\n",
    "        t = np.random.permutation(folder_list)\n",
    "        num_batches = int(len(t)/batch_size)\n",
    "        for batch in range(num_batches):\n",
    "            batch_data = np.zeros((batch_size,15,120,120,3))\n",
    "            batch_labels = np.zeros((batch_size,5))\n",
    "            for folder in range(batch_size):\n",
    "                imgs = os.listdir(source_path+'/'+ t[folder + (batch*batch_size)].split(';')[0])\n",
    "                for idx,item in enumerate(img_idx):\n",
    "                    image = imread(source_path+'/'+ t[folder + (batch*batch_size)].strip().split(';')[0]+'/'+imgs[item]).astype(np.float32)\n",
    "                    if image.shape[1] == 160:\n",
    "                        image = resize(image[:,20:140,:],(120,120)).astype(np.float32)\n",
    "                    else:\n",
    "                        image = resize(image,(120,120)).astype(np.float32)\n",
    "                    \n",
    "                    batch_data[folder,idx,:,:,0] = image[:,:,0] - 104\n",
    "                    batch_data[folder,idx,:,:,1] = image[:,:,1] - 117\n",
    "                    batch_data[folder,idx,:,:,2] = image[:,:,2] - 123\n",
    "                    \n",
    "                batch_labels[folder, int(t[folder + (batch*batch_size)].strip().split(';')[2])] = 1\n",
    "            yield batch_data, batch_labels\n",
    "\n",
    "        if (len(t)%batch_size) != 0:\n",
    "            batch_data = np.zeros((len(t)%batch_size,15,120,120,3))\n",
    "            batch_labels = np.zeros((len(t)%batch_size,5))\n",
    "            for folder in range(len(t)%batch_size):\n",
    "                imgs = os.listdir(source_path+'/'+ t[folder + (num_batches*batch_size)].split(';')[0])\n",
    "                for idx,item in enumerate(img_idx):\n",
    "                    image = imread(source_path+'/'+ t[folder + (num_batches*batch_size)].strip().split(';')[0]+'/'+imgs[item]).astype(np.float32)\n",
    "                    if image.shape[1] == 160:\n",
    "                        image = resize(image[:,20:140,:],(120,120)).astype(np.float32)\n",
    "                    else:\n",
    "                        image = resize(image,(120,120)).astype(np.float32)\n",
    "\n",
    "                    batch_data[folder,idx,:,:,0] = image[:,:,0] - 104\n",
    "                    batch_data[folder,idx,:,:,1] = image[:,:,1] - 117\n",
    "                    batch_data[folder,idx,:,:,2] = image[:,:,2] - 123\n",
    "\n",
    "                batch_labels[folder, int(t[folder + (num_batches*batch_size)].strip().split(';')[2])] = 1\n",
    "\n",
    "            yield batch_data, batch_labels"
   ]
  },
  {
   "cell_type": "code",
   "execution_count": null,
   "metadata": {
    "colab": {
     "base_uri": "https://localhost:8080/"
    },
    "id": "5W2trKgPry8U",
    "outputId": "9179abf6-23f6-4190-afb1-4b9d65e95857"
   },
   "outputs": [
    {
     "name": "stdout",
     "output_type": "stream",
     "text": [
      "# training sequences = 663\n",
      "# validation sequences = 100\n",
      "# epochs = 40\n"
     ]
    }
   ],
   "source": [
    "curr_dt_time = datetime.datetime.now()\n",
    "train_path = '/home/datasets/Project_data/train'\n",
    "val_path = '/home/datasets/Project_data/val'\n",
    "num_train_sequences = len(train_doc)\n",
    "print('# training sequences =', num_train_sequences)\n",
    "num_val_sequences = len(val_doc)\n",
    "print('# validation sequences =', num_val_sequences)\n",
    "num_epochs = 40\n",
    "print ('# epochs =', num_epochs)"
   ]
  },
  {
   "cell_type": "markdown",
   "metadata": {
    "id": "aTr79v0Fry8W"
   },
   "source": [
    "## Model with VGG16, GRU and Time Distributed Layer\n",
    "\n",
    "Here you make the model using different functionalities that Keras provides. You might want to use `TimeDistributed`, `GRU` and other RNN structures after doing transfer learning. Also remember that the last layer is the softmax. Remember that the network is designed in such a way that the model is able to fit in the memory of the webcam."
   ]
  },
  {
   "cell_type": "markdown",
   "metadata": {
    "id": "43pvqfwm2ffE"
   },
   "source": [
    "**Batch size = 32**\n",
    "\n",
    "**Number of frames = 15**\n",
    "\n",
    "**Image width = 120**\n",
    "\n",
    "**Image height = 120**\n",
    "\n",
    "**Epochs = 40**"
   ]
  },
  {
   "cell_type": "code",
   "execution_count": null,
   "metadata": {
    "id": "P4y6Thhvry8X"
   },
   "outputs": [
    {
     "name": "stdout",
     "output_type": "stream",
     "text": [
      "Downloading data from https://storage.googleapis.com/tensorflow/keras-applications/vgg16/vgg16_weights_tf_dim_ordering_tf_kernels_notop.h5\n",
      "58892288/58889256 [==============================] - 1s 0us/step\n",
      "58900480/58889256 [==============================] - 1s 0us/step\n"
     ]
    }
   ],
   "source": [
    "from keras.models import Sequential, Model\n",
    "from keras.layers import Dense, GRU, Dropout, Flatten, TimeDistributed\n",
    "from keras.callbacks import ModelCheckpoint, ReduceLROnPlateau\n",
    "from tensorflow.keras import optimizers\n",
    "from keras.applications.vgg16 import VGG16\n",
    "    \n",
    "base_model = VGG16(include_top=False, weights='imagenet', input_shape=(120,120,3))\n",
    "x = base_model.output\n",
    "x = Flatten()(x)\n",
    "\n",
    "features = Dense(64, activation='relu')(x)\n",
    "conv_model = Model(inputs=base_model.input, outputs=features)\n",
    "    \n",
    "for layer in base_model.layers:\n",
    "    layer.trainable = False\n",
    "        \n",
    "model = Sequential()\n",
    "model.add(TimeDistributed(conv_model, input_shape=(15,120,120,3)))\n",
    "model.add(GRU(32, return_sequences=True))\n",
    "model.add(GRU(16))\n",
    "model.add(Dropout(0.5))\n",
    "model.add(Dense(8, activation='relu'))\n",
    "model.add(Dense(5, activation='softmax'))"
   ]
  },
  {
   "cell_type": "markdown",
   "metadata": {
    "id": "0AJsQhOdry8Y"
   },
   "source": [
    "Now that you have written the model, the next step is to `compile` the model. When you print the `summary` of the model, you'll see the total number of parameters you have to train."
   ]
  },
  {
   "cell_type": "code",
   "execution_count": null,
   "metadata": {
    "colab": {
     "base_uri": "https://localhost:8080/"
    },
    "id": "CWFGcdtPry8Z",
    "outputId": "26cb3791-2c4c-4492-a2cc-8967ef79dc2f"
   },
   "outputs": [
    {
     "name": "stdout",
     "output_type": "stream",
     "text": [
      "Model: \"sequential_1\"\n",
      "_________________________________________________________________\n",
      " Layer (type)                Output Shape              Param #   \n",
      "=================================================================\n",
      " time_distributed (TimeDistr  (None, 15, 64)           15009664  \n",
      " ibuted)                                                         \n",
      "                                                                 \n",
      " gru (GRU)                   (None, 15, 32)            9408      \n",
      "                                                                 \n",
      " gru_1 (GRU)                 (None, 16)                2400      \n",
      "                                                                 \n",
      " dropout_2 (Dropout)         (None, 16)                0         \n",
      "                                                                 \n",
      " dense_3 (Dense)             (None, 8)                 136       \n",
      "                                                                 \n",
      " dense_4 (Dense)             (None, 5)                 45        \n",
      "                                                                 \n",
      "=================================================================\n",
      "Total params: 15,021,653\n",
      "Trainable params: 306,965\n",
      "Non-trainable params: 14,714,688\n",
      "_________________________________________________________________\n",
      "None\n"
     ]
    }
   ],
   "source": [
    "sgd = optimizers.SGD(lr=0.001, decay=1e-6, momentum=0.7, nesterov=True)\n",
    "model.compile(optimizer=sgd, loss='categorical_crossentropy', metrics=['categorical_accuracy'])\n",
    "print (model.summary())"
   ]
  },
  {
   "cell_type": "markdown",
   "metadata": {
    "id": "N5uNkD9Qry8a"
   },
   "source": [
    "Let us create the `train_generator` and the `val_generator` which will be used in `.fit_generator`."
   ]
  },
  {
   "cell_type": "code",
   "execution_count": null,
   "metadata": {
    "id": "fIucgmtrry8b"
   },
   "outputs": [],
   "source": [
    "train_generator = generator(train_path, train_doc, batch_size)\n",
    "val_generator = generator(val_path, val_doc, batch_size)"
   ]
  },
  {
   "cell_type": "code",
   "execution_count": null,
   "metadata": {
    "colab": {
     "base_uri": "https://localhost:8080/"
    },
    "id": "cDZITfVUry8b",
    "outputId": "e7530cec-1fa2-456f-fc03-dfa675647eec"
   },
   "outputs": [
    {
     "name": "stdout",
     "output_type": "stream",
     "text": [
      "WARNING:tensorflow:`period` argument is deprecated. Please use `save_freq` to specify the frequency in number of batches seen.\n",
      "WARNING:tensorflow:`epsilon` argument is deprecated and will be removed, use `min_delta` instead.\n"
     ]
    }
   ],
   "source": [
    "model_name = 'model_init_conv_lstm' + '_' + str(curr_dt_time).replace(' ','').replace(':','_') + '/'\n",
    "    \n",
    "if not os.path.exists(model_name):\n",
    "    os.mkdir(model_name)\n",
    "        \n",
    "filepath = model_name + 'model-{epoch:05d}-{loss:.5f}-{categorical_accuracy:.5f}-{val_loss:.5f}-{val_categorical_accuracy:.5f}.h5'\n",
    "\n",
    "checkpoint = ModelCheckpoint(filepath, monitor='val_loss', verbose=1, save_best_only=False, save_weights_only=False, mode='auto', period=1)\n",
    "\n",
    "LR = ReduceLROnPlateau(monitor='val_loss', factor=0.5, patience=2, verbose=1, mode='min', epsilon=0.0001, cooldown=0, min_lr=0.00001)\n",
    "callbacks_list = [checkpoint, LR]"
   ]
  },
  {
   "cell_type": "code",
   "execution_count": null,
   "metadata": {
    "id": "rb8kzEpLry8b"
   },
   "outputs": [],
   "source": [
    "if (num_train_sequences%batch_size) == 0:\n",
    "    steps_per_epoch = int(num_train_sequences/batch_size)\n",
    "else:\n",
    "    steps_per_epoch = (num_train_sequences//batch_size) + 1\n",
    "\n",
    "if (num_val_sequences%batch_size) == 0:\n",
    "    validation_steps = int(num_val_sequences/batch_size)\n",
    "else:\n",
    "    validation_steps = (num_val_sequences//batch_size) + 1"
   ]
  },
  {
   "cell_type": "markdown",
   "metadata": {
    "id": "nJZNM2Erry8c"
   },
   "source": [
    "Let us now fit the model. This will start training the model and with the help of the checkpoints, you'll be able to save the model at the end of each epoch."
   ]
  },
  {
   "cell_type": "code",
   "execution_count": null,
   "metadata": {
    "id": "L36A-PQwVeci",
    "outputId": "706af56d-c35d-470f-df7a-267424b7d336"
   },
   "outputs": [
    {
     "name": "stdout",
     "output_type": "stream",
     "text": [
      "Source path =  /home/datasets/Project_data/train ; batch size = 32\n",
      "Epoch 1/40\n",
      "21/21 [==============================] - ETA: 0s - loss: 1.7211 - categorical_accuracy: 0.2066Source path =  /home/datasets/Project_data/val ; batch size = 32\n",
      "\n",
      "Epoch 00001: saving model to model_init_conv_lstm_2022-10-1102_57_31.083168/model-00001-1.72114-0.20664-1.61259-0.25000.h5\n",
      "21/21 [==============================] - 88s 4s/step - loss: 1.7211 - categorical_accuracy: 0.2066 - val_loss: 1.6126 - val_categorical_accuracy: 0.2500 - lr: 0.0010\n",
      "Epoch 2/40\n",
      "21/21 [==============================] - ETA: 0s - loss: 1.6363 - categorical_accuracy: 0.2308\n",
      "Epoch 00002: saving model to model_init_conv_lstm_2022-10-1102_57_31.083168/model-00002-1.63633-0.23077-1.52208-0.24000.h5\n",
      "21/21 [==============================] - 82s 4s/step - loss: 1.6363 - categorical_accuracy: 0.2308 - val_loss: 1.5221 - val_categorical_accuracy: 0.2400 - lr: 0.0010\n",
      "Epoch 3/40\n",
      "21/21 [==============================] - ETA: 0s - loss: 1.5835 - categorical_accuracy: 0.2640\n",
      "Epoch 00003: saving model to model_init_conv_lstm_2022-10-1102_57_31.083168/model-00003-1.58351-0.26395-1.49835-0.36000.h5\n",
      "21/21 [==============================] - 84s 4s/step - loss: 1.5835 - categorical_accuracy: 0.2640 - val_loss: 1.4983 - val_categorical_accuracy: 0.3600 - lr: 0.0010\n",
      "Epoch 4/40\n",
      "21/21 [==============================] - ETA: 0s - loss: 1.4958 - categorical_accuracy: 0.3303\n",
      "Epoch 00004: saving model to model_init_conv_lstm_2022-10-1102_57_31.083168/model-00004-1.49578-0.33032-1.43423-0.43000.h5\n",
      "21/21 [==============================] - 78s 4s/step - loss: 1.4958 - categorical_accuracy: 0.3303 - val_loss: 1.4342 - val_categorical_accuracy: 0.4300 - lr: 0.0010\n",
      "Epoch 5/40\n",
      "21/21 [==============================] - ETA: 0s - loss: 1.3980 - categorical_accuracy: 0.3816\n",
      "Epoch 00006: saving model to model_init_conv_lstm_2022-10-1102_57_31.083168/model-00006-1.39804-0.38160-1.39768-0.43000.h5\n",
      "21/21 [==============================] - 84s 4s/step - loss: 1.3980 - categorical_accuracy: 0.3816 - val_loss: 1.3977 - val_categorical_accuracy: 0.4300 - lr: 0.0010\n",
      "Epoch 7/40\n",
      "21/21 [==============================] - ETA: 0s - loss: 1.3513 - categorical_accuracy: 0.4193\n",
      "Epoch 00007: saving model to model_init_conv_lstm_2022-10-1102_57_31.083168/model-00007-1.35135-0.41931-1.39254-0.38000.h5\n",
      "21/21 [==============================] - 85s 4s/step - loss: 1.3513 - categorical_accuracy: 0.4193 - val_loss: 1.3925 - val_categorical_accuracy: 0.3800 - lr: 0.0010\n",
      "Epoch 8/40\n",
      "21/21 [==============================] - ETA: 0s - loss: 1.3331 - categorical_accuracy: 0.4057\n",
      "Epoch 00008: saving model to model_init_conv_lstm_2022-10-1102_57_31.083168/model-00008-1.33309-0.40573-1.38920-0.42000.h5\n",
      "21/21 [==============================] - 80s 4s/step - loss: 1.3331 - categorical_accuracy: 0.4057 - val_loss: 1.3892 - val_categorical_accuracy: 0.4200 - lr: 0.0010\n",
      "Epoch 9/40\n",
      "21/21 [==============================] - ETA: 0s - loss: 1.2973 - categorical_accuracy: 0.4268\n",
      "Epoch 00009: saving model to model_init_conv_lstm_2022-10-1102_57_31.083168/model-00009-1.29729-0.42685-1.35624-0.41000.h5\n",
      "21/21 [==============================] - 83s 4s/step - loss: 1.2973 - categorical_accuracy: 0.4268 - val_loss: 1.3562 - val_categorical_accuracy: 0.4100 - lr: 0.0010\n",
      "Epoch 10/40\n",
      "21/21 [==============================] - ETA: 0s - loss: 1.2569 - categorical_accuracy: 0.4540\n",
      "Epoch 00010: saving model to model_init_conv_lstm_2022-10-1102_57_31.083168/model-00010-1.25692-0.45400-1.34827-0.35000.h5\n",
      "21/21 [==============================] - 82s 4s/step - loss: 1.2569 - categorical_accuracy: 0.4540 - val_loss: 1.3483 - val_categorical_accuracy: 0.3500 - lr: 0.0010\n",
      "Epoch 11/40\n",
      "21/21 [==============================] - ETA: 0s - loss: 1.2651 - categorical_accuracy: 0.4389\n",
      "Epoch 00011: saving model to model_init_conv_lstm_2022-10-1102_57_31.083168/model-00011-1.26512-0.43891-1.32957-0.39000.h5\n",
      "21/21 [==============================] - 83s 4s/step - loss: 1.2651 - categorical_accuracy: 0.4389 - val_loss: 1.3296 - val_categorical_accuracy: 0.3900 - lr: 0.0010\n",
      "Epoch 12/40\n",
      "21/21 [==============================] - ETA: 0s - loss: 1.2239 - categorical_accuracy: 0.4540\n",
      "Epoch 00012: saving model to model_init_conv_lstm_2022-10-1102_57_31.083168/model-00012-1.22390-0.45400-1.29737-0.40000.h5\n",
      "21/21 [==============================] - 79s 4s/step - loss: 1.2239 - categorical_accuracy: 0.4540 - val_loss: 1.2974 - val_categorical_accuracy: 0.4000 - lr: 0.0010\n",
      "Epoch 13/40\n",
      "21/21 [==============================] - ETA: 0s - loss: 1.2030 - categorical_accuracy: 0.4842\n",
      "Epoch 00013: saving model to model_init_conv_lstm_2022-10-1102_57_31.083168/model-00013-1.20298-0.48416-1.28778-0.40000.h5\n",
      "21/21 [==============================] - 81s 4s/step - loss: 1.2030 - categorical_accuracy: 0.4842 - val_loss: 1.2878 - val_categorical_accuracy: 0.4000 - lr: 0.0010\n",
      "Epoch 14/40\n",
      "21/21 [==============================] - ETA: 0s - loss: 1.1563 - categorical_accuracy: 0.4947\n",
      "Epoch 00014: saving model to model_init_conv_lstm_2022-10-1102_57_31.083168/model-00014-1.15631-0.49472-1.26636-0.50000.h5\n",
      "21/21 [==============================] - 83s 4s/step - loss: 1.1563 - categorical_accuracy: 0.4947 - val_loss: 1.2664 - val_categorical_accuracy: 0.5000 - lr: 0.0010\n",
      "Epoch 15/40\n",
      "21/21 [==============================] - ETA: 0s - loss: 1.1399 - categorical_accuracy: 0.5068\n",
      "Epoch 00015: saving model to model_init_conv_lstm_2022-10-1102_57_31.083168/model-00015-1.13987-0.50679-1.25619-0.46000.h5\n",
      "21/21 [==============================] - 80s 4s/step - loss: 1.1399 - categorical_accuracy: 0.5068 - val_loss: 1.2562 - val_categorical_accuracy: 0.4600 - lr: 0.0010\n",
      "Epoch 16/40\n",
      "21/21 [==============================] - ETA: 0s - loss: 1.1263 - categorical_accuracy: 0.5038\n",
      "Epoch 00016: saving model to model_init_conv_lstm_2022-10-1102_57_31.083168/model-00016-1.12628-0.50377-1.23764-0.44000.h5\n",
      "21/21 [==============================] - 79s 4s/step - loss: 1.1263 - categorical_accuracy: 0.5038 - val_loss: 1.2376 - val_categorical_accuracy: 0.4400 - lr: 0.0010\n",
      "Epoch 17/40\n",
      "19/21 [==========================>...] - ETA: 6s - loss: 1.1049 - categorical_accuracy: 0.5181 \n",
      "Epoch 00017: saving model to model_init_conv_lstm_2022-10-1102_57_31.083168/model-00017-1.10476-0.51131-1.24404-0.44000.h5\n",
      "21/21 [==============================] - 83s 4s/step - loss: 1.1048 - categorical_accuracy: 0.5113 - val_loss: 1.2440 - val_categorical_accuracy: 0.4400 - lr: 0.0010\n",
      "Epoch 18/40\n",
      "21/21 [==============================] - ETA: 0s - loss: 1.1071 - categorical_accuracy: 0.5143\n",
      "Epoch 00018: saving model to model_init_conv_lstm_2022-10-1102_57_31.083168/model-00018-1.10707-0.51433-1.22549-0.37000.h5\n",
      "21/21 [==============================] - 84s 4s/step - loss: 1.1071 - categorical_accuracy: 0.5143 - val_loss: 1.2255 - val_categorical_accuracy: 0.3700 - lr: 0.0010\n",
      "Epoch 19/40\n",
      "21/21 [==============================] - ETA: 0s - loss: 1.0640 - categorical_accuracy: 0.5249\n",
      "Epoch 00019: saving model to model_init_conv_lstm_2022-10-1102_57_31.083168/model-00019-1.06396-0.52489-1.20805-0.45000.h5\n",
      "21/21 [==============================] - 82s 4s/step - loss: 1.0640 - categorical_accuracy: 0.5249 - val_loss: 1.2080 - val_categorical_accuracy: 0.4500 - lr: 0.0010\n",
      "Epoch 20/40\n",
      "21/21 [==============================] - ETA: 0s - loss: 1.0776 - categorical_accuracy: 0.5249\n",
      "Epoch 00020: saving model to model_init_conv_lstm_2022-10-1102_57_31.083168/model-00020-1.07755-0.52489-1.20185-0.47000.h5\n",
      "21/21 [==============================] - 80s 4s/step - loss: 1.0776 - categorical_accuracy: 0.5249 - val_loss: 1.2018 - val_categorical_accuracy: 0.4700 - lr: 0.0010\n",
      "Epoch 21/40\n",
      "21/21 [==============================] - ETA: 0s - loss: 1.0381 - categorical_accuracy: 0.5400\n",
      "Epoch 00021: saving model to model_init_conv_lstm_2022-10-1102_57_31.083168/model-00021-1.03815-0.53997-1.18324-0.42000.h5\n",
      "21/21 [==============================] - 84s 4s/step - loss: 1.0381 - categorical_accuracy: 0.5400 - val_loss: 1.1832 - val_categorical_accuracy: 0.4200 - lr: 0.0010\n",
      "Epoch 22/40\n",
      "21/21 [==============================] - ETA: 0s - loss: 1.0141 - categorical_accuracy: 0.5807\n",
      "Epoch 00022: saving model to model_init_conv_lstm_2022-10-1102_57_31.083168/model-00022-1.01409-0.58069-1.17936-0.48000.h5\n",
      "21/21 [==============================] - 83s 4s/step - loss: 1.0141 - categorical_accuracy: 0.5807 - val_loss: 1.1794 - val_categorical_accuracy: 0.4800 - lr: 0.0010\n",
      "Epoch 23/40\n",
      "21/21 [==============================] - ETA: 0s - loss: 1.0164 - categorical_accuracy: 0.5611\n",
      "Epoch 00023: saving model to model_init_conv_lstm_2022-10-1102_57_31.083168/model-00023-1.01643-0.56109-1.21304-0.49000.h5\n",
      "21/21 [==============================] - 81s 4s/step - loss: 1.0164 - categorical_accuracy: 0.5611 - val_loss: 1.2130 - val_categorical_accuracy: 0.4900 - lr: 0.0010\n",
      "Epoch 24/40\n",
      "21/21 [==============================] - ETA: 0s - loss: 0.9805 - categorical_accuracy: 0.5852\n",
      "Epoch 00024: saving model to model_init_conv_lstm_2022-10-1102_57_31.083168/model-00024-0.98049-0.58522-1.18385-0.45000.h5\n",
      "\n",
      "Epoch 00024: ReduceLROnPlateau reducing learning rate to 0.0005000000237487257.\n",
      "21/21 [==============================] - 80s 4s/step - loss: 0.9805 - categorical_accuracy: 0.5852 - val_loss: 1.1838 - val_categorical_accuracy: 0.4500 - lr: 0.0010\n",
      "Epoch 25/40\n",
      "21/21 [==============================] - ETA: 0s - loss: 0.9787 - categorical_accuracy: 0.5641\n",
      "Epoch 00025: saving model to model_init_conv_lstm_2022-10-1102_57_31.083168/model-00025-0.97873-0.56410-1.15900-0.50000.h5\n",
      "21/21 [==============================] - 83s 4s/step - loss: 0.9787 - categorical_accuracy: 0.5641 - val_loss: 1.1590 - val_categorical_accuracy: 0.5000 - lr: 5.0000e-04\n",
      "Epoch 26/40\n",
      "21/21 [==============================] - ETA: 0s - loss: 0.9690 - categorical_accuracy: 0.5882\n",
      "Epoch 00026: saving model to model_init_conv_lstm_2022-10-1102_57_31.083168/model-00026-0.96896-0.58824-1.17583-0.41000.h5\n",
      "21/21 [==============================] - 84s 4s/step - loss: 0.9690 - categorical_accuracy: 0.5882 - val_loss: 1.1758 - val_categorical_accuracy: 0.4100 - lr: 5.0000e-04\n",
      "Epoch 27/40\n",
      "21/21 [==============================] - ETA: 0s - loss: 0.9315 - categorical_accuracy: 0.6229\n",
      "Epoch 00027: saving model to model_init_conv_lstm_2022-10-1102_57_31.083168/model-00027-0.93154-0.62293-1.12976-0.55000.h5\n",
      "21/21 [==============================] - 84s 4s/step - loss: 0.9315 - categorical_accuracy: 0.6229 - val_loss: 1.1298 - val_categorical_accuracy: 0.5500 - lr: 5.0000e-04\n",
      "Epoch 28/40\n",
      "21/21 [==============================] - ETA: 0s - loss: 0.9498 - categorical_accuracy: 0.5897\n",
      "Epoch 00028: saving model to model_init_conv_lstm_2022-10-1102_57_31.083168/model-00028-0.94980-0.58974-1.13853-0.46000.h5\n",
      "21/21 [==============================] - 81s 4s/step - loss: 0.9498 - categorical_accuracy: 0.5897 - val_loss: 1.1385 - val_categorical_accuracy: 0.4600 - lr: 5.0000e-04\n",
      "Epoch 29/40\n",
      "21/21 [==============================] - ETA: 0s - loss: 0.9462 - categorical_accuracy: 0.6048\n",
      "Epoch 00029: saving model to model_init_conv_lstm_2022-10-1102_57_31.083168/model-00029-0.94620-0.60483-1.15037-0.45000.h5\n",
      "\n",
      "Epoch 00029: ReduceLROnPlateau reducing learning rate to 0.0002500000118743628.\n",
      "21/21 [==============================] - 84s 4s/step - loss: 0.9462 - categorical_accuracy: 0.6048 - val_loss: 1.1504 - val_categorical_accuracy: 0.4500 - lr: 5.0000e-04\n",
      "Epoch 30/40\n",
      "21/21 [==============================] - ETA: 0s - loss: 0.9340 - categorical_accuracy: 0.6290\n",
      "Epoch 00030: saving model to model_init_conv_lstm_2022-10-1102_57_31.083168/model-00030-0.93397-0.62896-1.11534-0.52000.h5\n",
      "21/21 [==============================] - 82s 4s/step - loss: 0.9340 - categorical_accuracy: 0.6290 - val_loss: 1.1153 - val_categorical_accuracy: 0.5200 - lr: 2.5000e-04\n",
      "Epoch 31/40\n",
      "21/21 [==============================] - ETA: 0s - loss: 0.9403 - categorical_accuracy: 0.6124\n",
      "Epoch 00031: saving model to model_init_conv_lstm_2022-10-1102_57_31.083168/model-00031-0.94035-0.61237-1.16620-0.46000.h5\n",
      "21/21 [==============================] - 79s 4s/step - loss: 0.9403 - categorical_accuracy: 0.6124 - val_loss: 1.1662 - val_categorical_accuracy: 0.4600 - lr: 2.5000e-04\n",
      "Epoch 32/40\n",
      "21/21 [==============================] - ETA: 0s - loss: 0.9237 - categorical_accuracy: 0.6290\n",
      "Epoch 00032: saving model to model_init_conv_lstm_2022-10-1102_57_31.083168/model-00032-0.92365-0.62896-1.12815-0.48000.h5\n",
      "\n",
      "Epoch 00032: ReduceLROnPlateau reducing learning rate to 0.0001250000059371814.\n",
      "21/21 [==============================] - 79s 4s/step - loss: 0.9237 - categorical_accuracy: 0.6290 - val_loss: 1.1282 - val_categorical_accuracy: 0.4800 - lr: 2.5000e-04\n",
      "Epoch 33/40\n",
      "21/21 [==============================] - ETA: 0s - loss: 0.9251 - categorical_accuracy: 0.6576\n",
      "Epoch 00033: saving model to model_init_conv_lstm_2022-10-1102_57_31.083168/model-00033-0.92508-0.65762-1.13875-0.47000.h5\n",
      "21/21 [==============================] - 81s 4s/step - loss: 0.9251 - categorical_accuracy: 0.6576 - val_loss: 1.1387 - val_categorical_accuracy: 0.4700 - lr: 1.2500e-04\n",
      "Epoch 34/40\n",
      "21/21 [==============================] - ETA: 0s - loss: 0.9043 - categorical_accuracy: 0.6425\n",
      "Epoch 00034: saving model to model_init_conv_lstm_2022-10-1102_57_31.083168/model-00034-0.90434-0.64253-1.12537-0.46000.h5\n",
      "\n",
      "Epoch 00034: ReduceLROnPlateau reducing learning rate to 6.25000029685907e-05.\n",
      "21/21 [==============================] - 81s 4s/step - loss: 0.9043 - categorical_accuracy: 0.6425 - val_loss: 1.1254 - val_categorical_accuracy: 0.4600 - lr: 1.2500e-04\n",
      "Epoch 35/40\n",
      "21/21 [==============================] - ETA: 0s - loss: 0.9252 - categorical_accuracy: 0.6335\n",
      "Epoch 00035: saving model to model_init_conv_lstm_2022-10-1102_57_31.083168/model-00035-0.92516-0.63348-1.12433-0.53000.h5\n",
      "21/21 [==============================] - 85s 4s/step - loss: 0.9252 - categorical_accuracy: 0.6335 - val_loss: 1.1243 - val_categorical_accuracy: 0.5300 - lr: 6.2500e-05\n",
      "Epoch 36/40\n",
      "21/21 [==============================] - ETA: 0s - loss: 0.9320 - categorical_accuracy: 0.6350\n",
      "Epoch 00036: saving model to model_init_conv_lstm_2022-10-1102_57_31.083168/model-00036-0.93197-0.63499-1.13413-0.49000.h5\n",
      "\n",
      "Epoch 00036: ReduceLROnPlateau reducing learning rate to 3.125000148429535e-05.\n",
      "21/21 [==============================] - 78s 4s/step - loss: 0.9320 - categorical_accuracy: 0.6350 - val_loss: 1.1341 - val_categorical_accuracy: 0.4900 - lr: 6.2500e-05\n",
      "Epoch 37/40\n",
      "21/21 [==============================] - ETA: 0s - loss: 0.9428 - categorical_accuracy: 0.6214\n",
      "Epoch 00037: saving model to model_init_conv_lstm_2022-10-1102_57_31.083168/model-00037-0.94277-0.62142-1.13673-0.49000.h5\n",
      "21/21 [==============================] - 81s 4s/step - loss: 0.9428 - categorical_accuracy: 0.6214 - val_loss: 1.1367 - val_categorical_accuracy: 0.4900 - lr: 3.1250e-05\n",
      "Epoch 38/40\n",
      "21/21 [==============================] - ETA: 0s - loss: 0.9117 - categorical_accuracy: 0.6456\n",
      "Epoch 00038: saving model to model_init_conv_lstm_2022-10-1102_57_31.083168/model-00038-0.91174-0.64555-1.17566-0.47000.h5\n",
      "\n",
      "Epoch 00038: ReduceLROnPlateau reducing learning rate to 1.5625000742147677e-05.\n",
      "21/21 [==============================] - 81s 4s/step - loss: 0.9117 - categorical_accuracy: 0.6456 - val_loss: 1.1757 - val_categorical_accuracy: 0.4700 - lr: 3.1250e-05\n",
      "Epoch 39/40\n",
      "21/21 [==============================] - ETA: 0s - loss: 0.9159 - categorical_accuracy: 0.6471\n",
      "Epoch 00039: saving model to model_init_conv_lstm_2022-10-1102_57_31.083168/model-00039-0.91588-0.64706-1.09818-0.53000.h5\n",
      "21/21 [==============================] - 79s 4s/step - loss: 0.9159 - categorical_accuracy: 0.6471 - val_loss: 1.0982 - val_categorical_accuracy: 0.5300 - lr: 1.5625e-05\n",
      "Epoch 40/40\n",
      "21/21 [==============================] - ETA: 0s - loss: 0.9113 - categorical_accuracy: 0.6531\n",
      "Epoch 00040: saving model to model_init_conv_lstm_2022-10-1102_57_31.083168/model-00040-0.91129-0.65309-1.12638-0.50000.h5\n",
      "21/21 [==============================] - 76s 4s/step - loss: 0.9113 - categorical_accuracy: 0.6531 - val_loss: 1.1264 - val_categorical_accuracy: 0.5000 - lr: 1.5625e-05\n"
     ]
    }
   ],
   "source": [
    "vggmodel = model.fit_generator(train_generator, steps_per_epoch=steps_per_epoch, epochs=num_epochs, verbose=1, \n",
    "                    callbacks=callbacks_list, validation_data=val_generator, \n",
    "                    validation_steps=validation_steps, class_weight=None, workers=1, initial_epoch=0)"
   ]
  },
  {
   "cell_type": "code",
   "execution_count": null,
   "metadata": {
    "id": "ft2tw7jyY8Im"
   },
   "outputs": [],
   "source": [
    "model.save(\"GestureRecognition2.h5\")"
   ]
  },
  {
   "cell_type": "code",
   "execution_count": null,
   "metadata": {},
   "outputs": [
    {
     "data": {
      "text/plain": [
       "<matplotlib.legend.Legend at 0x7f4051bd1eb0>"
      ]
     },
     "execution_count": 24,
     "metadata": {},
     "output_type": "execute_result"
    },
    {
     "data": {
      "image/png": "[encoded data removed]",
      "text/plain": [
       "<Figure size 1440x432 with 2 Axes>"
      ]
     },
     "metadata": {
      "needs_background": "light"
     },
     "output_type": "display_data"
    }
   ],
   "source": [
    "plt.figure(figsize=(20,6))\n",
    "ax1 = plt.subplot(121)\n",
    "ax1 = plt.plot(vggmodel.history['loss'])\n",
    "ax1 = plt.plot(vggmodel.history['val_loss'])\n",
    "plt.title('model loss')\n",
    "plt.ylabel('loss')\n",
    "plt.xlabel('epoch')\n",
    "plt.legend(['train', 'validation'], loc='lower left')\n",
    "ax2 = plt.subplot(122)\n",
    "ax2 = plt.plot(vggmodel.history['categorical_accuracy'])\n",
    "ax2 = plt.plot(vggmodel.history['val_categorical_accuracy'])\n",
    "plt.title('model accuracy')\n",
    "plt.ylabel('categorical_accuracy')\n",
    "plt.xlabel('epoch')\n",
    "plt.legend(['train', 'validation'], loc='lower left')"
   ]
  },
  {
   "cell_type": "markdown",
   "metadata": {},
   "source": [
    "## Model 3"
   ]
  },
  {
   "cell_type": "code",
   "execution_count": null,
   "metadata": {
    "id": "0tbv9c9e2qT-"
   },
   "outputs": [],
   "source": [
    "train_doc = np.random.permutation(open('/home/datasets/Project_data/train.csv').readlines())\n",
    "val_doc = np.random.permutation(open('/home/datasets/Project_data/val.csv').readlines())\n",
    "batch_size = 32"
   ]
  },
  {
   "cell_type": "code",
   "execution_count": null,
   "metadata": {
    "colab": {
     "base_uri": "https://localhost:8080/"
    },
    "id": "A2e0SWX-2qUD",
    "outputId": "c32e0897-65f5-4140-c9cd-d9dc906749f7"
   },
   "outputs": [
    {
     "name": "stdout",
     "output_type": "stream",
     "text": [
      "# training sequences = 663\n",
      "# validation sequences = 100\n",
      "# epochs = 30\n"
     ]
    }
   ],
   "source": [
    "curr_dt_time = datetime.datetime.now()\n",
    "train_path = '/home/datasets/Project_data/train'\n",
    "val_path = '/home/datasets/Project_data/val'\n",
    "num_train_sequences = len(train_doc)\n",
    "print('# training sequences =', num_train_sequences)\n",
    "num_val_sequences = len(val_doc)\n",
    "print('# validation sequences =', num_val_sequences)\n",
    "num_epochs = 30\n",
    "print ('# epochs =', num_epochs)"
   ]
  },
  {
   "cell_type": "markdown",
   "metadata": {
    "id": "IThk5NDT2qUE"
   },
   "source": [
    "## Model with Conv2D + LSTM layers"
   ]
  },
  {
   "cell_type": "markdown",
   "metadata": {
    "id": "b859WNXXbQG_"
   },
   "source": [
    "**Batch size = 32**\n",
    "\n",
    "**Number of frames = 15**\n",
    "\n",
    "**Image width = 120**\n",
    "\n",
    "**Image height = 120**\n",
    "\n",
    "**Epochs = 30**"
   ]
  },
  {
   "cell_type": "markdown",
   "metadata": {
    "id": "TR_O1MK2bQEf"
   },
   "source": []
  },
  {
   "cell_type": "code",
   "execution_count": null,
   "metadata": {
    "id": "uylpslpV-vwr"
   },
   "outputs": [],
   "source": [
    "from tensorflow.keras.optimizers import Adam\n",
    "from tensorflow.python.keras import backend\n",
    "from tensorflow.python.keras.applications import imagenet_utils\n",
    "from keras.layers.convolutional import Conv2D, Conv3D\n",
    "from keras.layers import GlobalAveragePooling2D,ConvLSTM2D\n",
    "\n",
    "model = Sequential()\n",
    "model.add(TimeDistributed(\n",
    "    Conv2D(8, (3,3), activation='relu'), input_shape=(15,120,120,3))\n",
    ")\n",
    "model.add(BatchNormalization())\n",
    "model.add(TimeDistributed(\n",
    "    Conv2D(16, (3,3), activation='relu'))\n",
    ")\n",
    "model.add(BatchNormalization())\n",
    "model.add(\n",
    "    ConvLSTM2D(8, kernel_size = 3, return_sequences=False)\n",
    ")\n",
    "model.add(BatchNormalization())\n",
    "model.add(TimeDistributed(\n",
    "    Dense(64, activation='relu'))\n",
    ")\n",
    "model.add(BatchNormalization())\n",
    "model.add(GlobalAveragePooling2D())\n",
    "model.add(Dense(64, activation='relu'))\n",
    "model.add(Dense(5, activation='softmax'))"
   ]
  },
  {
   "cell_type": "code",
   "execution_count": null,
   "metadata": {
    "colab": {
     "base_uri": "https://localhost:8080/"
    },
    "id": "18O1b2tLDsb_",
    "outputId": "729a4e72-b59b-4657-bdb3-5615dbca0563"
   },
   "outputs": [
    {
     "name": "stdout",
     "output_type": "stream",
     "text": [
      "Model: \"sequential_2\"\n",
      "_________________________________________________________________\n",
      " Layer (type)                Output Shape              Param #   \n",
      "=================================================================\n",
      " time_distributed_1 (TimeDis  (None, 15, 118, 118, 8)  224       \n",
      " tributed)                                                       \n",
      "                                                                 \n",
      " batch_normalization_4 (Batc  (None, 15, 118, 118, 8)  32        \n",
      " hNormalization)                                                 \n",
      "                                                                 \n",
      " time_distributed_2 (TimeDis  (None, 15, 116, 116, 16)  1168     \n",
      " tributed)                                                       \n",
      "                                                                 \n",
      " batch_normalization_5 (Batc  (None, 15, 116, 116, 16)  64       \n",
      " hNormalization)                                                 \n",
      "                                                                 \n",
      " conv_lstm2d (ConvLSTM2D)    (None, 114, 114, 8)       6944      \n",
      "                                                                 \n",
      " batch_normalization_6 (Batc  (None, 114, 114, 8)      32        \n",
      " hNormalization)                                                 \n",
      "                                                                 \n",
      " time_distributed_3 (TimeDis  (None, 114, 114, 64)     576       \n",
      " tributed)                                                       \n",
      "                                                                 \n",
      " batch_normalization_7 (Batc  (None, 114, 114, 64)     256       \n",
      " hNormalization)                                                 \n",
      "                                                                 \n",
      " global_average_pooling2d (G  (None, 64)               0         \n",
      " lobalAveragePooling2D)                                          \n",
      "                                                                 \n",
      " dense_6 (Dense)             (None, 64)                4160      \n",
      "                                                                 \n",
      " dense_7 (Dense)             (None, 5)                 325       \n",
      "                                                                 \n",
      "=================================================================\n",
      "Total params: 13,781\n",
      "Trainable params: 13,589\n",
      "Non-trainable params: 192\n",
      "_________________________________________________________________\n",
      "None\n"
     ]
    }
   ],
   "source": [
    "model.compile(optimizer = Adam(), loss = 'categorical_crossentropy', metrics = ['categorical_accuracy'])\n",
    "print(model.summary())"
   ]
  },
  {
   "cell_type": "code",
   "execution_count": null,
   "metadata": {
    "colab": {
     "base_uri": "https://localhost:8080/"
    },
    "id": "YUlMr_w3JC1F",
    "outputId": "1b5a9c28-1380-4832-de41-5ed9c1e2854a"
   },
   "outputs": [
    {
     "name": "stdout",
     "output_type": "stream",
     "text": [
      "WARNING:tensorflow:`period` argument is deprecated. Please use `save_freq` to specify the frequency in number of batches seen.\n",
      "WARNING:tensorflow:`epsilon` argument is deprecated and will be removed, use `min_delta` instead.\n"
     ]
    }
   ],
   "source": [
    "train_generator = generator(train_path, train_doc, batch_size)\n",
    "val_generator = generator(val_path, val_doc, batch_size)\n",
    "\n",
    "model_name = 'model_init' + '_' + str(curr_dt_time).replace(' ','').replace(':','_') + '/'\n",
    "    \n",
    "if not os.path.exists(model_name):\n",
    "    os.mkdir(model_name)\n",
    "        \n",
    "filepath = model_name + 'model-{epoch:05d}-{loss:.5f}-{categorical_accuracy:.5f}-{val_loss:.5f}-{val_categorical_accuracy:.5f}.h5'\n",
    "\n",
    "checkpoint = ModelCheckpoint(filepath, monitor='val_loss', verbose=1, save_best_only=False, save_weights_only=False, mode='auto', period=1)\n",
    "\n",
    "LR = ReduceLROnPlateau(monitor='val_loss', factor=0.5, patience=2, verbose=1, mode='min', epsilon=0.0001, cooldown=0, min_lr=0.00001)\n",
    "callbacks_list = [checkpoint, LR]\n",
    "\n",
    "if (num_train_sequences%batch_size) == 0:\n",
    "    steps_per_epoch = int(num_train_sequences/batch_size)\n",
    "else:\n",
    "    steps_per_epoch = (num_train_sequences//batch_size) + 1\n",
    "\n",
    "if (num_val_sequences%batch_size) == 0:\n",
    "    validation_steps = int(num_val_sequences/batch_size)\n",
    "else:\n",
    "    validation_steps = (num_val_sequences//batch_size) + 1"
   ]
  },
  {
   "cell_type": "markdown",
   "metadata": {
    "id": "oly0XCr02qUJ"
   },
   "source": [
    "Let us now fit the model. This will start training the model and with the help of the checkpoints, you'll be able to save the model at the end of each epoch."
   ]
  },
  {
   "cell_type": "code",
   "execution_count": null,
   "metadata": {
    "colab": {
     "base_uri": "https://localhost:8080/",
     "height": 1000
    },
    "id": "EoPw48JT8ecr",
    "outputId": "a160608b-ac1e-4ec2-acfb-97e8e511df6d"
   },
   "outputs": [
    {
     "name": "stdout",
     "output_type": "stream",
     "text": [
      "Source path =  /home/datasets/Project_data/train ; batch size = 32\n",
      "Epoch 1/30\n",
      "21/21 [==============================] - ETA: 0s - loss: 1.5171 - categorical_accuracy: 0.2971Source path =  /home/datasets/Project_data/val ; batch size = 32\n",
      "\n",
      "Epoch 00001: saving model to model_init_2022-10-1103_52_05.837604/model-00001-1.51707-0.29713-1.59017-0.23000.h5\n",
      "21/21 [==============================] - 82s 4s/step - loss: 1.5171 - categorical_accuracy: 0.2971 - val_loss: 1.5902 - val_categorical_accuracy: 0.2300 - lr: 0.0010\n",
      "Epoch 2/30\n",
      "21/21 [==============================] - ETA: 0s - loss: 1.3352 - categorical_accuracy: 0.4781\n",
      "Epoch 00002: saving model to model_init_2022-10-1103_52_05.837604/model-00002-1.33522-0.47813-1.56478-0.24000.h5\n",
      "21/21 [==============================] - 79s 4s/step - loss: 1.3352 - categorical_accuracy: 0.4781 - val_loss: 1.5648 - val_categorical_accuracy: 0.2400 - lr: 0.0010\n",
      "Epoch 3/30\n",
      "21/21 [==============================] - ETA: 0s - loss: 1.1936 - categorical_accuracy: 0.4962\n",
      "Epoch 00003: saving model to model_init_2022-10-1103_52_05.837604/model-00003-1.19361-0.49623-1.61982-0.20000.h5\n",
      "21/21 [==============================] - 78s 4s/step - loss: 1.1936 - categorical_accuracy: 0.4962 - val_loss: 1.6198 - val_categorical_accuracy: 0.2000 - lr: 0.0010\n",
      "Epoch 4/30\n",
      "21/21 [==============================] - ETA: 0s - loss: 1.0837 - categorical_accuracy: 0.5460\n",
      "Epoch 00004: saving model to model_init_2022-10-1103_52_05.837604/model-00004-1.08369-0.54600-1.64285-0.23000.h5\n",
      "\n",
      "Epoch 00004: ReduceLROnPlateau reducing learning rate to 0.0005000000237487257.\n",
      "21/21 [==============================] - 76s 4s/step - loss: 1.0837 - categorical_accuracy: 0.5460 - val_loss: 1.6428 - val_categorical_accuracy: 0.2300 - lr: 0.0010\n",
      "Epoch 5/30\n",
      "21/21 [==============================] - ETA: 0s - loss: 0.9772 - categorical_accuracy: 0.5973\n",
      "Epoch 00005: saving model to model_init_2022-10-1103_52_05.837604/model-00005-0.97717-0.59729-1.60027-0.24000.h5\n",
      "21/21 [==============================] - 79s 4s/step - loss: 0.9772 - categorical_accuracy: 0.5973 - val_loss: 1.6003 - val_categorical_accuracy: 0.2400 - lr: 5.0000e-04\n",
      "Epoch 6/30\n",
      "21/21 [==============================] - ETA: 0s - loss: 0.9207 - categorical_accuracy: 0.6124\n",
      "Epoch 00007: saving model to model_init_2022-10-1103_52_05.837604/model-00007-0.92072-0.61237-1.56421-0.27000.h5\n",
      "21/21 [==============================] - 79s 4s/step - loss: 0.9207 - categorical_accuracy: 0.6124 - val_loss: 1.5642 - val_categorical_accuracy: 0.2700 - lr: 2.5000e-04\n",
      "Epoch 8/30\n",
      "21/21 [==============================] - ETA: 0s - loss: 0.8846 - categorical_accuracy: 0.6637\n",
      "Epoch 00008: saving model to model_init_2022-10-1103_52_05.837604/model-00008-0.88462-0.66365-1.57510-0.28000.h5\n",
      "21/21 [==============================] - 76s 4s/step - loss: 0.8846 - categorical_accuracy: 0.6637 - val_loss: 1.5751 - val_categorical_accuracy: 0.2800 - lr: 2.5000e-04\n",
      "Epoch 9/30\n",
      "21/21 [==============================] - ETA: 0s - loss: 0.8591 - categorical_accuracy: 0.6652\n",
      "Epoch 00009: saving model to model_init_2022-10-1103_52_05.837604/model-00009-0.85908-0.66516-1.40675-0.34000.h5\n",
      "21/21 [==============================] - 79s 4s/step - loss: 0.8591 - categorical_accuracy: 0.6652 - val_loss: 1.4067 - val_categorical_accuracy: 0.3400 - lr: 2.5000e-04\n",
      "Epoch 10/30\n",
      "21/21 [==============================] - ETA: 0s - loss: 0.8462 - categorical_accuracy: 0.6712\n",
      "Epoch 00010: saving model to model_init_2022-10-1103_52_05.837604/model-00010-0.84618-0.67119-1.29631-0.35000.h5\n",
      "21/21 [==============================] - 79s 4s/step - loss: 0.8462 - categorical_accuracy: 0.6712 - val_loss: 1.2963 - val_categorical_accuracy: 0.3500 - lr: 2.5000e-04\n",
      "Epoch 11/30\n",
      "21/21 [==============================] - ETA: 0s - loss: 0.8245 - categorical_accuracy: 0.6802\n",
      "Epoch 00011: saving model to model_init_2022-10-1103_52_05.837604/model-00011-0.82450-0.68024-1.16182-0.50000.h5\n",
      "21/21 [==============================] - 78s 4s/step - loss: 0.8245 - categorical_accuracy: 0.6802 - val_loss: 1.1618 - val_categorical_accuracy: 0.5000 - lr: 2.5000e-04\n",
      "Epoch 12/30\n",
      "21/21 [==============================] - ETA: 0s - loss: 0.7986 - categorical_accuracy: 0.6757\n",
      "Epoch 00012: saving model to model_init_2022-10-1103_52_05.837604/model-00012-0.79856-0.67572-1.20393-0.41000.h5\n",
      "21/21 [==============================] - 76s 4s/step - loss: 0.7986 - categorical_accuracy: 0.6757 - val_loss: 1.2039 - val_categorical_accuracy: 0.4100 - lr: 2.5000e-04\n",
      "Epoch 13/30\n",
      "21/21 [==============================] - ETA: 0s - loss: 0.8048 - categorical_accuracy: 0.6742\n",
      "Epoch 00013: saving model to model_init_2022-10-1103_52_05.837604/model-00013-0.80485-0.67421-1.03908-0.60000.h5\n",
      "21/21 [==============================] - 83s 4s/step - loss: 0.8048 - categorical_accuracy: 0.6742 - val_loss: 1.0391 - val_categorical_accuracy: 0.6000 - lr: 2.5000e-04\n",
      "Epoch 14/30\n",
      "21/21 [==============================] - ETA: 0s - loss: 0.7626 - categorical_accuracy: 0.6983\n",
      "Epoch 00014: saving model to model_init_2022-10-1103_52_05.837604/model-00014-0.76258-0.69834-0.86264-0.66000.h5\n",
      "21/21 [==============================] - 83s 4s/step - loss: 0.7626 - categorical_accuracy: 0.6983 - val_loss: 0.8626 - val_categorical_accuracy: 0.6600 - lr: 2.5000e-04\n",
      "Epoch 15/30\n",
      "21/21 [==============================] - ETA: 0s - loss: 0.7762 - categorical_accuracy: 0.7044\n",
      "Epoch 00015: saving model to model_init_2022-10-1103_52_05.837604/model-00015-0.77617-0.70437-0.91674-0.68000.h5\n",
      "21/21 [==============================] - 85s 4s/step - loss: 0.7762 - categorical_accuracy: 0.7044 - val_loss: 0.9167 - val_categorical_accuracy: 0.6800 - lr: 2.5000e-04\n",
      "Epoch 16/30\n",
      "21/21 [==============================] - ETA: 0s - loss: 0.7580 - categorical_accuracy: 0.6968\n",
      "Epoch 00016: saving model to model_init_2022-10-1103_52_05.837604/model-00016-0.75803-0.69683-0.88146-0.65000.h5\n",
      "\n",
      "Epoch 00016: ReduceLROnPlateau reducing learning rate to 0.0001250000059371814.\n",
      "21/21 [==============================] - 78s 4s/step - loss: 0.7580 - categorical_accuracy: 0.6968 - val_loss: 0.8815 - val_categorical_accuracy: 0.6500 - lr: 2.5000e-04\n",
      "Epoch 17/30\n",
      "21/21 [==============================] - ETA: 0s - loss: 0.7259 - categorical_accuracy: 0.7210\n",
      "Epoch 00017: saving model to model_init_2022-10-1103_52_05.837604/model-00017-0.72589-0.72097-0.83326-0.68000.h5\n",
      "21/21 [==============================] - 82s 4s/step - loss: 0.7259 - categorical_accuracy: 0.7210 - val_loss: 0.8333 - val_categorical_accuracy: 0.6800 - lr: 1.2500e-04\n",
      "Epoch 18/30\n",
      "21/21 [==============================] - ETA: 0s - loss: 0.7009 - categorical_accuracy: 0.7315\n",
      "Epoch 00018: saving model to model_init_2022-10-1103_52_05.837604/model-00018-0.70085-0.73152-0.81999-0.70000.h5\n",
      "21/21 [==============================] - 83s 4s/step - loss: 0.7009 - categorical_accuracy: 0.7315 - val_loss: 0.8200 - val_categorical_accuracy: 0.7000 - lr: 1.2500e-04\n",
      "Epoch 19/30\n",
      "21/21 [==============================] - ETA: 0s - loss: 0.7084 - categorical_accuracy: 0.7210\n",
      "Epoch 00019: saving model to model_init_2022-10-1103_52_05.837604/model-00019-0.70837-0.72097-0.75088-0.70000.h5\n",
      "21/21 [==============================] - 84s 4s/step - loss: 0.7084 - categorical_accuracy: 0.7210 - val_loss: 0.7509 - val_categorical_accuracy: 0.7000 - lr: 1.2500e-04\n",
      "Epoch 20/30\n",
      "21/21 [==============================] - ETA: 0s - loss: 0.7136 - categorical_accuracy: 0.7255\n",
      "Epoch 00020: saving model to model_init_2022-10-1103_52_05.837604/model-00020-0.71364-0.72549-0.76829-0.70000.h5\n",
      "21/21 [==============================] - 79s 4s/step - loss: 0.7136 - categorical_accuracy: 0.7255 - val_loss: 0.7683 - val_categorical_accuracy: 0.7000 - lr: 1.2500e-04\n",
      "Epoch 21/30\n",
      "21/21 [==============================] - ETA: 0s - loss: 0.7081 - categorical_accuracy: 0.7179\n",
      "Epoch 00021: saving model to model_init_2022-10-1103_52_05.837604/model-00021-0.70807-0.71795-0.77139-0.70000.h5\n",
      "\n",
      "Epoch 00021: ReduceLROnPlateau reducing learning rate to 6.25000029685907e-05.\n",
      "21/21 [==============================] - 84s 4s/step - loss: 0.7081 - categorical_accuracy: 0.7179 - val_loss: 0.7714 - val_categorical_accuracy: 0.7000 - lr: 1.2500e-04\n",
      "Epoch 22/30\n",
      "21/21 [==============================] - ETA: 0s - loss: 0.6989 - categorical_accuracy: 0.7376\n",
      "Epoch 00022: saving model to model_init_2022-10-1103_52_05.837604/model-00022-0.69891-0.73756-0.72850-0.72000.h5\n",
      "21/21 [==============================] - 82s 4s/step - loss: 0.6989 - categorical_accuracy: 0.7376 - val_loss: 0.7285 - val_categorical_accuracy: 0.7200 - lr: 6.2500e-05\n",
      "Epoch 23/30\n",
      "21/21 [==============================] - ETA: 0s - loss: 0.6899 - categorical_accuracy: 0.7391\n",
      "Epoch 00023: saving model to model_init_2022-10-1103_52_05.837604/model-00023-0.68994-0.73906-0.75841-0.67000.h5\n",
      "21/21 [==============================] - 82s 4s/step - loss: 0.6899 - categorical_accuracy: 0.7391 - val_loss: 0.7584 - val_categorical_accuracy: 0.6700 - lr: 6.2500e-05\n",
      "Epoch 24/30\n",
      "21/21 [==============================] - ETA: 0s - loss: 0.6876 - categorical_accuracy: 0.7345\n",
      "Epoch 00024: saving model to model_init_2022-10-1103_52_05.837604/model-00024-0.68755-0.73454-0.76748-0.69000.h5\n",
      "\n",
      "Epoch 00024: ReduceLROnPlateau reducing learning rate to 3.125000148429535e-05.\n",
      "21/21 [==============================] - 79s 4s/step - loss: 0.6876 - categorical_accuracy: 0.7345 - val_loss: 0.7675 - val_categorical_accuracy: 0.6900 - lr: 6.2500e-05\n",
      "Epoch 25/30\n",
      "21/21 [==============================] - ETA: 0s - loss: 0.6856 - categorical_accuracy: 0.7406\n",
      "Epoch 00025: saving model to model_init_2022-10-1103_52_05.837604/model-00025-0.68556-0.74057-0.73842-0.71000.h5\n",
      "21/21 [==============================] - 84s 4s/step - loss: 0.6856 - categorical_accuracy: 0.7406 - val_loss: 0.7384 - val_categorical_accuracy: 0.7100 - lr: 3.1250e-05\n",
      "Epoch 26/30\n",
      "21/21 [==============================] - ETA: 0s - loss: 0.6638 - categorical_accuracy: 0.7602\n",
      "Epoch 00026: saving model to model_init_2022-10-1103_52_05.837604/model-00026-0.66380-0.76018-0.74316-0.71000.h5\n",
      "\n",
      "Epoch 00026: ReduceLROnPlateau reducing learning rate to 1.5625000742147677e-05.\n",
      "21/21 [==============================] - 82s 4s/step - loss: 0.6638 - categorical_accuracy: 0.7602 - val_loss: 0.7432 - val_categorical_accuracy: 0.7100 - lr: 3.1250e-05\n",
      "Epoch 27/30\n",
      "21/21 [==============================] - ETA: 0s - loss: 0.6823 - categorical_accuracy: 0.7406\n",
      "Epoch 00027: saving model to model_init_2022-10-1103_52_05.837604/model-00027-0.68232-0.74057-0.73583-0.69000.h5\n",
      "21/21 [==============================] - 82s 4s/step - loss: 0.6823 - categorical_accuracy: 0.7406 - val_loss: 0.7358 - val_categorical_accuracy: 0.6900 - lr: 1.5625e-05\n",
      "Epoch 28/30\n",
      "21/21 [==============================] - ETA: 0s - loss: 0.6731 - categorical_accuracy: 0.7587\n",
      "Epoch 00028: saving model to model_init_2022-10-1103_52_05.837604/model-00028-0.67311-0.75867-0.73545-0.71000.h5\n",
      "\n",
      "Epoch 00028: ReduceLROnPlateau reducing learning rate to 1e-05.\n",
      "21/21 [==============================] - 80s 4s/step - loss: 0.6731 - categorical_accuracy: 0.7587 - val_loss: 0.7355 - val_categorical_accuracy: 0.7100 - lr: 1.5625e-05\n",
      "Epoch 29/30\n",
      "21/21 [==============================] - ETA: 0s - loss: 0.6764 - categorical_accuracy: 0.7285\n",
      "Epoch 00029: saving model to model_init_2022-10-1103_52_05.837604/model-00029-0.67637-0.72851-0.72904-0.70000.h5\n",
      "21/21 [==============================] - 83s 4s/step - loss: 0.6764 - categorical_accuracy: 0.7285 - val_loss: 0.7290 - val_categorical_accuracy: 0.7000 - lr: 1.0000e-05\n",
      "Epoch 30/30\n",
      "21/21 [==============================] - ETA: 0s - loss: 0.6708 - categorical_accuracy: 0.7436\n",
      "Epoch 00030: saving model to model_init_2022-10-1103_52_05.837604/model-00030-0.67083-0.74359-0.71181-0.73000.h5\n",
      "21/21 [==============================] - 84s 4s/step - loss: 0.6708 - categorical_accuracy: 0.7436 - val_loss: 0.7118 - val_categorical_accuracy: 0.7300 - lr: 1.0000e-05\n"
     ]
    }
   ],
   "source": [
    "lstm2d = model.fit_generator(train_generator, steps_per_epoch=steps_per_epoch, epochs=num_epochs, verbose=1, \n",
    "                    callbacks=callbacks_list, validation_data=val_generator, \n",
    "                    validation_steps=validation_steps, class_weight=None, workers=1, initial_epoch=0)"
   ]
  },
  {
   "cell_type": "code",
   "execution_count": null,
   "metadata": {
    "colab": {
     "base_uri": "https://localhost:8080/"
    },
    "id": "duDouWDi8ebM",
    "outputId": "4ab84afc-bebc-405c-a5b3-17b22867d7a6"
   },
   "outputs": [],
   "source": [
    "model.save(\"GestureRecognition3.h5\")"
   ]
  },
  {
   "cell_type": "code",
   "execution_count": null,
   "metadata": {},
   "outputs": [
    {
     "data": {
      "text/plain": [
       "<matplotlib.legend.Legend at 0x7f40514abc10>"
      ]
     },
     "execution_count": 32,
     "metadata": {},
     "output_type": "execute_result"
    },
    {
     "data": {
      "image/png": "[encoded data removed]",
      "text/plain": [
       "<Figure size 1440x432 with 2 Axes>"
      ]
     },
     "metadata": {
      "needs_background": "light"
     },
     "output_type": "display_data"
    }
   ],
   "source": [
    "plt.figure(figsize=(20,6))\n",
    "ax1 = plt.subplot(121)\n",
    "ax1 = plt.plot(lstm2d.history['loss'])\n",
    "ax1 = plt.plot(lstm2d.history['val_loss'])\n",
    "plt.title('model loss')\n",
    "plt.ylabel('loss')\n",
    "plt.xlabel('epoch')\n",
    "plt.legend(['train', 'validation'], loc='lower left')\n",
    "ax2 = plt.subplot(122)\n",
    "ax2 = plt.plot(lstm2d.history['categorical_accuracy'])\n",
    "ax2 = plt.plot(lstm2d.history['val_categorical_accuracy'])\n",
    "plt.title('model accuracy')\n",
    "plt.ylabel('categorical_accuracy')\n",
    "plt.xlabel('epoch')\n",
    "plt.legend(['train', 'validation'], loc='lower left')"
   ]
  },
  {
   "cell_type": "markdown",
   "metadata": {},
   "source": [
    "## Model 4"
   ]
  },
  {
   "cell_type": "code",
   "execution_count": null,
   "metadata": {},
   "outputs": [
    {
     "name": "stdout",
     "output_type": "stream",
     "text": [
      "# training sequences = 663\n",
      "# validation sequences = 100\n",
      "# epochs = 15\n"
     ]
    }
   ],
   "source": [
    "curr_dt_time = datetime.datetime.now()\n",
    "train_path = '/home/datasets/Project_data/train'\n",
    "val_path = '/home/datasets/Project_data/val'\n",
    "num_train_sequences = len(train_doc)\n",
    "print('# training sequences =', num_train_sequences)\n",
    "num_val_sequences = len(val_doc)\n",
    "print('# validation sequences =', num_val_sequences)\n",
    "num_epochs = 15\n",
    "print ('# epochs =', num_epochs)"
   ]
  },
  {
   "cell_type": "markdown",
   "metadata": {},
   "source": [
    "### Model with Transfer Learning using EfficientNetB0 with GRU layers\n",
    "\n",
    "**Batch size = 32**\n",
    "\n",
    "**Number of frames = 15**\n",
    "\n",
    "**Image width = 120**\n",
    "\n",
    "**Image height = 120**\n",
    "\n",
    "**Epochs = 20**"
   ]
  },
  {
   "cell_type": "code",
   "execution_count": null,
   "metadata": {},
   "outputs": [
    {
     "name": "stdout",
     "output_type": "stream",
     "text": [
      "Downloading data from https://storage.googleapis.com/keras-applications/efficientnetb0_notop.h5\n",
      "16711680/16705208 [==============================] - 1s 0us/step\n",
      "16719872/16705208 [==============================] - 1s 0us/step\n",
      "WARNING:tensorflow:Layer gru_2 will not use cuDNN kernels since it doesn't meet the criteria. It will use a generic GPU kernel as fallback when running on GPU.\n"
     ]
    }
   ],
   "source": [
    "from tensorflow.keras.applications import EfficientNetB0\n",
    "\n",
    "base_model = EfficientNetB0(include_top=False, weights='imagenet', input_shape=(120,120,3))\n",
    "\n",
    "x = base_model.output\n",
    "x = GlobalAveragePooling2D()(x)\n",
    "\n",
    "base_model = Model(inputs=base_model.input, outputs=x)\n",
    "\n",
    "model = Sequential()\n",
    "\n",
    "model.add(TimeDistributed(base_model, input_shape=base_model.input_shape))\n",
    "model.add(TimeDistributed(Flatten(input_shape=base_model.input_shape[1:])))\n",
    "model.add(GRU(256, activation='relu', dropout=0.5))\n",
    "model.add(Dense(5, activation = 'softmax'))"
   ]
  },
  {
   "cell_type": "code",
   "execution_count": null,
   "metadata": {},
   "outputs": [
    {
     "name": "stdout",
     "output_type": "stream",
     "text": [
      "Model: \"sequential_3\"\n",
      "_________________________________________________________________\n",
      " Layer (type)                Output Shape              Param #   \n",
      "=================================================================\n",
      " time_distributed_4 (TimeDis  (None, None, 1280)       4049571   \n",
      " tributed)                                                       \n",
      "                                                                 \n",
      " time_distributed_5 (TimeDis  (None, None, 1280)       0         \n",
      " tributed)                                                       \n",
      "                                                                 \n",
      " gru_2 (GRU)                 (None, 256)               1181184   \n",
      "                                                                 \n",
      " dense_8 (Dense)             (None, 5)                 1285      \n",
      "                                                                 \n",
      "=================================================================\n",
      "Total params: 5,232,040\n",
      "Trainable params: 5,190,017\n",
      "Non-trainable params: 42,023\n",
      "_________________________________________________________________\n",
      "None\n"
     ]
    }
   ],
   "source": [
    "model.compile(optimizer = Adam(), loss = 'categorical_crossentropy', metrics = ['categorical_accuracy'])\n",
    "print(model.summary())"
   ]
  },
  {
   "cell_type": "code",
   "execution_count": null,
   "metadata": {},
   "outputs": [
    {
     "name": "stdout",
     "output_type": "stream",
     "text": [
      "WARNING:tensorflow:`period` argument is deprecated. Please use `save_freq` to specify the frequency in number of batches seen.\n",
      "WARNING:tensorflow:`epsilon` argument is deprecated and will be removed, use `min_delta` instead.\n"
     ]
    }
   ],
   "source": [
    "train_generator = generator(train_path, train_doc, batch_size)\n",
    "val_generator = generator(val_path, val_doc, batch_size)\n",
    "\n",
    "model_name = 'model_init' + '_' + str(curr_dt_time).replace(' ','').replace(':','_') + '/'\n",
    "    \n",
    "if not os.path.exists(model_name):\n",
    "    os.mkdir(model_name)\n",
    "        \n",
    "filepath = model_name + 'model-{epoch:05d}-{loss:.5f}-{categorical_accuracy:.5f}-{val_loss:.5f}-{val_categorical_accuracy:.5f}.h5'\n",
    "\n",
    "checkpoint = ModelCheckpoint(filepath, monitor='val_loss', verbose=1, save_best_only=False, save_weights_only=False, mode='auto', period=1)\n",
    "\n",
    "LR = ReduceLROnPlateau(monitor='val_loss', factor=0.5, patience=2, verbose=1, mode='min', epsilon=0.0001, cooldown=0, min_lr=0.00001)\n",
    "callbacks_list = [checkpoint, LR]\n",
    "\n",
    "if (num_train_sequences%batch_size) == 0:\n",
    "    steps_per_epoch = int(num_train_sequences/batch_size)\n",
    "else:\n",
    "    steps_per_epoch = (num_train_sequences//batch_size) + 1\n",
    "\n",
    "if (num_val_sequences%batch_size) == 0:\n",
    "    validation_steps = int(num_val_sequences/batch_size)\n",
    "else:\n",
    "    validation_steps = (num_val_sequences//batch_size) + 1"
   ]
  },
  {
   "cell_type": "code",
   "execution_count": null,
   "metadata": {},
   "outputs": [
    {
     "name": "stdout",
     "output_type": "stream",
     "text": [
      "Source path =  /home/datasets/Project_data/train ; batch size = 32\n",
      "Epoch 1/15\n",
      "21/21 [==============================] - ETA: 0s - loss: 0.8504 - categorical_accuracy: 0.6516Source path =  /home/datasets/Project_data/val ; batch size = 32\n",
      "\n",
      "Epoch 00001: saving model to model_init_2022-10-1104_32_27.130700/model-00001-0.85037-0.65158-0.84681-0.74000.h5\n",
      "21/21 [==============================] - 94s 4s/step - loss: 0.8504 - categorical_accuracy: 0.6516 - val_loss: 0.8468 - val_categorical_accuracy: 0.7400 - lr: 0.0010\n",
      "Epoch 2/15\n",
      "21/21 [==============================] - ETA: 0s - loss: 0.1792 - categorical_accuracy: 0.9427\n",
      "Epoch 00002: saving model to model_init_2022-10-1104_32_27.130700/model-00002-0.17919-0.94268-0.88757-0.77000.h5\n",
      "21/21 [==============================] - 80s 4s/step - loss: 0.1792 - categorical_accuracy: 0.9427 - val_loss: 0.8876 - val_categorical_accuracy: 0.7700 - lr: 0.0010\n",
      "Epoch 3/15\n",
      "21/21 [==============================] - ETA: 0s - loss: 0.1159 - categorical_accuracy: 0.9563\n",
      "Epoch 00003: saving model to model_init_2022-10-1104_32_27.130700/model-00003-0.11587-0.95626-0.47731-0.87000.h5\n",
      "21/21 [==============================] - 80s 4s/step - loss: 0.1159 - categorical_accuracy: 0.9563 - val_loss: 0.4773 - val_categorical_accuracy: 0.8700 - lr: 0.0010\n",
      "Epoch 4/15\n",
      "21/21 [==============================] - ETA: 0s - loss: 0.0372 - categorical_accuracy: 0.9910\n",
      "Epoch 00004: saving model to model_init_2022-10-1104_32_27.130700/model-00004-0.03719-0.99095-0.88437-0.87000.h5\n",
      "21/21 [==============================] - 77s 4s/step - loss: 0.0372 - categorical_accuracy: 0.9910 - val_loss: 0.8844 - val_categorical_accuracy: 0.8700 - lr: 0.0010\n",
      "Epoch 5/15\n",
      "21/21 [==============================] - ETA: 0s - loss: 0.0718 - categorical_accuracy: 0.9819\n",
      "Epoch 00005: saving model to model_init_2022-10-1104_32_27.130700/model-00005-0.07179-0.98190-0.73574-0.85000.h5\n",
      "\n",
      "Epoch 00005: ReduceLROnPlateau reducing learning rate to 0.0005000000237487257.\n",
      "21/21 [==============================] - 80s 4s/step - loss: 0.0718 - categorical_accuracy: 0.9819 - val_loss: 0.7357 - val_categorical_accuracy: 0.8500 - lr: 0.0010\n",
      "Epoch 6/15\n",
      "21/21 [==============================] - ETA: 0s - loss: 0.0735 - categorical_accuracy: 0.9698\n",
      "Epoch 00006: saving model to model_init_2022-10-1104_32_27.130700/model-00006-0.07349-0.96983-1.14856-0.82000.h5\n",
      "21/21 [==============================] - 80s 4s/step - loss: 0.0735 - categorical_accuracy: 0.9698 - val_loss: 1.1486 - val_categorical_accuracy: 0.8200 - lr: 5.0000e-04\n",
      "Epoch 7/15\n",
      "21/21 [==============================] - ETA: 0s - loss: 0.0186 - categorical_accuracy: 0.9940\n",
      "Epoch 00007: saving model to model_init_2022-10-1104_32_27.130700/model-00007-0.01855-0.99397-0.49987-0.86000.h5\n",
      "\n",
      "Epoch 00007: ReduceLROnPlateau reducing learning rate to 0.0002500000118743628.\n",
      "21/21 [==============================] - 81s 4s/step - loss: 0.0186 - categorical_accuracy: 0.9940 - val_loss: 0.4999 - val_categorical_accuracy: 0.8600 - lr: 5.0000e-04\n",
      "Epoch 8/15\n",
      "21/21 [==============================] - ETA: 0s - loss: 0.0059 - categorical_accuracy: 1.0000\n",
      "Epoch 00008: saving model to model_init_2022-10-1104_32_27.130700/model-00008-0.00588-1.00000-0.27632-0.93000.h5\n",
      "21/21 [==============================] - 77s 4s/step - loss: 0.0059 - categorical_accuracy: 1.0000 - val_loss: 0.2763 - val_categorical_accuracy: 0.9300 - lr: 2.5000e-04\n",
      "Epoch 9/15\n",
      "21/21 [==============================] - ETA: 0s - loss: 0.0059 - categorical_accuracy: 0.9985\n",
      "Epoch 00009: saving model to model_init_2022-10-1104_32_27.130700/model-00009-0.00588-0.99849-0.11855-0.95000.h5\n",
      "21/21 [==============================] - 79s 4s/step - loss: 0.0059 - categorical_accuracy: 0.9985 - val_loss: 0.1186 - val_categorical_accuracy: 0.9500 - lr: 2.5000e-04\n",
      "Epoch 10/15\n",
      "21/21 [==============================] - ETA: 0s - loss: 0.0036 - categorical_accuracy: 0.9985\n",
      "Epoch 00010: saving model to model_init_2022-10-1104_32_27.130700/model-00010-0.00356-0.99849-0.07630-0.96000.h5\n",
      "21/21 [==============================] - 79s 4s/step - loss: 0.0036 - categorical_accuracy: 0.9985 - val_loss: 0.0763 - val_categorical_accuracy: 0.9600 - lr: 2.5000e-04\n",
      "Epoch 11/15\n",
      "21/21 [==============================] - ETA: 0s - loss: 0.0041 - categorical_accuracy: 0.9985\n",
      "Epoch 00011: saving model to model_init_2022-10-1104_32_27.130700/model-00011-0.00414-0.99849-0.07889-0.94000.h5\n",
      "21/21 [==============================] - 81s 4s/step - loss: 0.0041 - categorical_accuracy: 0.9985 - val_loss: 0.0789 - val_categorical_accuracy: 0.9400 - lr: 2.5000e-04\n",
      "Epoch 12/15\n",
      "21/21 [==============================] - ETA: 0s - loss: 0.0011 - categorical_accuracy: 1.0000  \n",
      "Epoch 00012: saving model to model_init_2022-10-1104_32_27.130700/model-00012-0.00106-1.00000-0.10644-0.96000.h5\n",
      "\n",
      "Epoch 00012: ReduceLROnPlateau reducing learning rate to 0.0001250000059371814.\n",
      "21/21 [==============================] - 79s 4s/step - loss: 0.0011 - categorical_accuracy: 1.0000 - val_loss: 0.1064 - val_categorical_accuracy: 0.9600 - lr: 2.5000e-04\n",
      "Epoch 13/15\n",
      "21/21 [==============================] - ETA: 0s - loss: 0.0021 - categorical_accuracy: 1.0000\n",
      "Epoch 00013: saving model to model_init_2022-10-1104_32_27.130700/model-00013-0.00210-1.00000-0.10483-0.97000.h5\n",
      "21/21 [==============================] - 79s 4s/step - loss: 0.0021 - categorical_accuracy: 1.0000 - val_loss: 0.1048 - val_categorical_accuracy: 0.9700 - lr: 1.2500e-04\n",
      "Epoch 14/15\n",
      "21/21 [==============================] - ETA: 0s - loss: 6.2461e-04 - categorical_accuracy: 1.0000\n",
      "Epoch 00014: saving model to model_init_2022-10-1104_32_27.130700/model-00014-0.00062-1.00000-0.08964-0.97000.h5\n",
      "\n",
      "Epoch 00014: ReduceLROnPlateau reducing learning rate to 6.25000029685907e-05.\n",
      "21/21 [==============================] - 80s 4s/step - loss: 6.2461e-04 - categorical_accuracy: 1.0000 - val_loss: 0.0896 - val_categorical_accuracy: 0.9700 - lr: 1.2500e-04\n",
      "Epoch 15/15\n",
      "21/21 [==============================] - ETA: 0s - loss: 0.0012 - categorical_accuracy: 1.0000\n",
      "Epoch 00015: saving model to model_init_2022-10-1104_32_27.130700/model-00015-0.00121-1.00000-0.03150-0.99000.h5\n",
      "21/21 [==============================] - 79s 4s/step - loss: 0.0012 - categorical_accuracy: 1.0000 - val_loss: 0.0315 - val_categorical_accuracy: 0.9900 - lr: 6.2500e-05\n"
     ]
    }
   ],
   "source": [
    "effnet = model.fit_generator(train_generator, steps_per_epoch=steps_per_epoch, epochs=num_epochs, verbose=1, \n",
    "                    callbacks=callbacks_list, validation_data=val_generator, \n",
    "                    validation_steps=validation_steps, class_weight=None, workers=1, initial_epoch=0)"
   ]
  },
  {
   "cell_type": "code",
   "execution_count": null,
   "metadata": {},
   "outputs": [],
   "source": [
    "model.save(\"GestureRecognition4.h5\")"
   ]
  },
  {
   "cell_type": "code",
   "execution_count": null,
   "metadata": {},
   "outputs": [
    {
     "data": {
      "text/plain": [
       "<matplotlib.legend.Legend at 0x7f3fd65c1130>"
      ]
     },
     "execution_count": 39,
     "metadata": {},
     "output_type": "execute_result"
    },
    {
     "data": {
      "image/png": "[encoded data removed]",
      "text/plain": [
       "<Figure size 1440x432 with 2 Axes>"
      ]
     },
     "metadata": {
      "needs_background": "light"
     },
     "output_type": "display_data"
    }
   ],
   "source": [
    "plt.figure(figsize=(20,6))\n",
    "ax1 = plt.subplot(121)\n",
    "ax1 = plt.plot(effnet.history['loss'])\n",
    "ax1 = plt.plot(effnet.history['val_loss'])\n",
    "plt.title('model loss')\n",
    "plt.ylabel('loss')\n",
    "plt.xlabel('epoch')\n",
    "plt.legend(['train', 'validation'], loc='lower left')\n",
    "ax2 = plt.subplot(122)\n",
    "ax2 = plt.plot(effnet.history['categorical_accuracy'])\n",
    "ax2 = plt.plot(effnet.history['val_categorical_accuracy'])\n",
    "plt.title('model accuracy')\n",
    "plt.ylabel('categorical_accuracy')\n",
    "plt.xlabel('epoch')\n",
    "plt.legend(['train', 'validation'], loc='lower left')"
   ]
  },
  {
   "cell_type": "markdown",
   "metadata": {},
   "source": [
    "## Model 5"
   ]
  },
  {
   "cell_type": "code",
   "execution_count": 3,
   "metadata": {},
   "outputs": [],
   "source": [
    "train_doc = np.random.permutation(open('/home/datasets/Project_data/train.csv').readlines())\n",
    "val_doc = np.random.permutation(open('/home/datasets/Project_data/val.csv').readlines())\n",
    "batch_size = 32"
   ]
  },
  {
   "cell_type": "markdown",
   "metadata": {},
   "source": [
    "## Generator - 3\n",
    "This is one of the most important part of the code. The overall structure of the generator has been given. In the generator, you are going to preprocess the images as you have images of 2 different dimensions as well as create a batch of video frames. You have to experiment with some of the parts of the generator function such that you get high accuracy."
   ]
  },
  {
   "cell_type": "code",
   "execution_count": 4,
   "metadata": {},
   "outputs": [],
   "source": [
    "def generator(source_path, folder_list, batch_size):\n",
    "    print( 'Source path = ', source_path, '; batch size =', batch_size)\n",
    "    img_idx = [0,1,2,4,6,8,10,12,14,16,18,20,22,24,26,27,28,29]\n",
    "    while True:\n",
    "        t = np.random.permutation(folder_list)\n",
    "        num_batches = int(len(t)/batch_size)\n",
    "        for batch in range(num_batches):\n",
    "            batch_data = np.zeros((batch_size,18,100,100,3))\n",
    "            batch_labels = np.zeros((batch_size,5))\n",
    "            for folder in range(batch_size):\n",
    "                imgs = os.listdir(source_path+'/'+ t[folder + (batch*batch_size)].split(';')[0])\n",
    "                for idx,item in enumerate(img_idx):\n",
    "                    image = imread(source_path+'/'+ t[folder + (batch*batch_size)].strip().split(';')[0]+'/'+imgs[item]).astype(np.float32)\n",
    "                    if image.shape[1] == 160:\n",
    "                        image = resize(image[:,20:140,:],(100,100)).astype(np.float32)\n",
    "                    else:\n",
    "                        image = resize(image,(100,100)).astype(np.float32)\n",
    "\n",
    "                    batch_data[folder,idx,:,:,0] = (image[:,:,0]) / 255.0  \n",
    "                    batch_data[folder,idx,:,:,1] = (image[:,:,1]) / 255.0  \n",
    "                    batch_data[folder,idx,:,:,2] = (image[:,:,2]) / 255.0 \n",
    "                    \n",
    "                    batch_data[folder,idx,:,:,0] = image[:,:,0] - 104\n",
    "                    batch_data[folder,idx,:,:,1] = image[:,:,1] - 117\n",
    "                    batch_data[folder,idx,:,:,2] = image[:,:,2] - 123\n",
    "                    \n",
    "                batch_labels[folder, int(t[folder + (batch*batch_size)].strip().split(';')[2])] = 1\n",
    "            yield batch_data, batch_labels\n",
    "\n",
    "        if (len(t)%batch_size) != 0:\n",
    "            batch_data = np.zeros((len(t)%batch_size,18,100,100,3))\n",
    "            batch_labels = np.zeros((len(t)%batch_size,5))\n",
    "            for folder in range(len(t)%batch_size):\n",
    "                imgs = os.listdir(source_path+'/'+ t[folder + (num_batches*batch_size)].split(';')[0])\n",
    "                for idx,item in enumerate(img_idx):\n",
    "                    image = imread(source_path+'/'+ t[folder + (num_batches*batch_size)].strip().split(';')[0]+'/'+imgs[item]).astype(np.float32)\n",
    "                    if image.shape[1] == 160:\n",
    "                        image = resize(image[:,20:140,:],(100,100)).astype(np.float32)\n",
    "                    else:\n",
    "                        image = resize(image,(100,100)).astype(np.float32)\n",
    "\n",
    "                    batch_data[folder,idx,:,:,0] = (image[:,:,0]) / 255.0  \n",
    "                    batch_data[folder,idx,:,:,1] = (image[:,:,1]) / 255.0  \n",
    "                    batch_data[folder,idx,:,:,2] = (image[:,:,2]) / 255.0 \n",
    "\n",
    "                    batch_data[folder,idx,:,:,0] = image[:,:,0] - 104\n",
    "                    batch_data[folder,idx,:,:,1] = image[:,:,1] - 117\n",
    "                    batch_data[folder,idx,:,:,2] = image[:,:,2] - 123\n",
    "\n",
    "                batch_labels[folder, int(t[folder + (num_batches*batch_size)].strip().split(';')[2])] = 1\n",
    "\n",
    "            yield batch_data, batch_labels"
   ]
  },
  {
   "cell_type": "code",
   "execution_count": 5,
   "metadata": {},
   "outputs": [
    {
     "name": "stdout",
     "output_type": "stream",
     "text": [
      "# training sequences = 663\n",
      "# validation sequences = 100\n",
      "# epochs = 30\n"
     ]
    }
   ],
   "source": [
    "curr_dt_time = datetime.datetime.now()\n",
    "train_path = '/home/datasets/Project_data/train'\n",
    "val_path = '/home/datasets/Project_data/val'\n",
    "num_train_sequences = len(train_doc)\n",
    "print('# training sequences =', num_train_sequences)\n",
    "num_val_sequences = len(val_doc)\n",
    "print('# validation sequences =', num_val_sequences)\n",
    "num_epochs = 30\n",
    "print ('# epochs =', num_epochs)"
   ]
  },
  {
   "cell_type": "markdown",
   "metadata": {},
   "source": [
    "### Model with Transfer Learning using Conv3D with MaxPooling3D and reduced parameters\n",
    "\n",
    "**Batch size = 32**\n",
    "\n",
    "**Number of frames = 18**\n",
    "\n",
    "**Image width = 100**\n",
    "\n",
    "**Image height = 100**\n",
    "\n",
    "**Epochs = 30**"
   ]
  },
  {
   "cell_type": "code",
   "execution_count": 6,
   "metadata": {},
   "outputs": [
    {
     "name": "stderr",
     "output_type": "stream",
     "text": [
      "2022-10-11 18:29:30.633219: W tensorflow/core/common_runtime/gpu/gpu_bfc_allocator.cc:39] Overriding allow_growth setting because the TF_FORCE_GPU_ALLOW_GROWTH environment variable is set. Original config value was 0.\n",
      "2022-10-11 18:29:30.633278: I tensorflow/core/common_runtime/gpu/gpu_device.cc:1525] Created device /job:localhost/replica:0/task:0/device:GPU:0 with 22852 MB memory:  -> device: 0, name: Quadro RTX 6000, pci bus id: 0000:1c:00.0, compute capability: 7.5\n"
     ]
    }
   ],
   "source": [
    "from keras.models import Sequential\n",
    "from keras.layers import Dense, GRU, Dropout, Flatten, BatchNormalization, Activation\n",
    "from keras.layers.convolutional import Conv3D, MaxPooling3D\n",
    "from keras.callbacks import ModelCheckpoint, ReduceLROnPlateau\n",
    "from tensorflow.keras import optimizers\n",
    "\n",
    "model = Sequential()\n",
    "model.add(Conv3D(64, (3,3,3), strides=(1,1,1), padding='same', input_shape=(18,100,100,3)))\n",
    "model.add(BatchNormalization())\n",
    "model.add(Activation('relu'))\n",
    "model.add(MaxPooling3D(pool_size=(2,2,1), strides=(2,2,1)))\n",
    "\n",
    "model.add(Conv3D(256, (3,3,3), strides=(1,1,1), padding='same'))\n",
    "model.add(Activation('relu'))\n",
    "model.add(MaxPooling3D(pool_size=(2,2,2), strides=(2,2,2)))\n",
    "\n",
    "\n",
    "model.add(Conv3D(128, (3,3,3), strides=(1,1,1), padding='same'))\n",
    "model.add(Activation('relu'))\n",
    "model.add(MaxPooling3D(pool_size=(2,2,2), strides=(2,2,2)))\n",
    "\n",
    "model.add(Flatten())\n",
    "model.add(Dropout(0.3))\n",
    "model.add(Dense(64, activation='relu'))\n",
    "model.add(Dropout(0.3))\n",
    "model.add(Dense(5, activation='softmax'))"
   ]
  },
  {
   "cell_type": "code",
   "execution_count": 7,
   "metadata": {},
   "outputs": [
    {
     "name": "stdout",
     "output_type": "stream",
     "text": [
      "Model: \"sequential\"\n",
      "_________________________________________________________________\n",
      " Layer (type)                Output Shape              Param #   \n",
      "=================================================================\n",
      " conv3d (Conv3D)             (None, 18, 100, 100, 64)  5248      \n",
      "                                                                 \n",
      " batch_normalization (BatchN  (None, 18, 100, 100, 64)  256      \n",
      " ormalization)                                                   \n",
      "                                                                 \n",
      " activation (Activation)     (None, 18, 100, 100, 64)  0         \n",
      "                                                                 \n",
      " max_pooling3d (MaxPooling3D  (None, 9, 50, 100, 64)   0         \n",
      " )                                                               \n",
      "                                                                 \n",
      " conv3d_1 (Conv3D)           (None, 9, 50, 100, 256)   442624    \n",
      "                                                                 \n",
      " activation_1 (Activation)   (None, 9, 50, 100, 256)   0         \n",
      "                                                                 \n",
      " max_pooling3d_1 (MaxPooling  (None, 4, 25, 50, 256)   0         \n",
      " 3D)                                                             \n",
      "                                                                 \n",
      " conv3d_2 (Conv3D)           (None, 4, 25, 50, 128)    884864    \n",
      "                                                                 \n",
      " activation_2 (Activation)   (None, 4, 25, 50, 128)    0         \n",
      "                                                                 \n",
      " max_pooling3d_2 (MaxPooling  (None, 2, 12, 25, 128)   0         \n",
      " 3D)                                                             \n",
      "                                                                 \n",
      " flatten (Flatten)           (None, 76800)             0         \n",
      "                                                                 \n",
      " dropout (Dropout)           (None, 76800)             0         \n",
      "                                                                 \n",
      " dense (Dense)               (None, 64)                4915264   \n",
      "                                                                 \n",
      " dropout_1 (Dropout)         (None, 64)                0         \n",
      "                                                                 \n",
      " dense_1 (Dense)             (None, 5)                 325       \n",
      "                                                                 \n",
      "=================================================================\n",
      "Total params: 6,248,581\n",
      "Trainable params: 6,248,453\n",
      "Non-trainable params: 128\n",
      "_________________________________________________________________\n",
      "None\n"
     ]
    }
   ],
   "source": [
    "sgd = optimizers.SGD(lr=0.001, decay=1e-6, momentum=0.7, nesterov=True)\n",
    "model.compile(optimizer=sgd, loss='categorical_crossentropy', metrics=['categorical_accuracy'])\n",
    "print (model.summary())"
   ]
  },
  {
   "cell_type": "code",
   "execution_count": 8,
   "metadata": {},
   "outputs": [],
   "source": [
    "train_generator = generator(train_path, train_doc, batch_size)\n",
    "val_generator = generator(val_path, val_doc, batch_size)"
   ]
  },
  {
   "cell_type": "code",
   "execution_count": 9,
   "metadata": {},
   "outputs": [
    {
     "name": "stdout",
     "output_type": "stream",
     "text": [
      "WARNING:tensorflow:`period` argument is deprecated. Please use `save_freq` to specify the frequency in number of batches seen.\n",
      "WARNING:tensorflow:`epsilon` argument is deprecated and will be removed, use `min_delta` instead.\n"
     ]
    }
   ],
   "source": [
    "model_name = 'model_init' + '_' + str(curr_dt_time).replace(' ','').replace(':','_') + '/'\n",
    "    \n",
    "if not os.path.exists(model_name):\n",
    "    os.mkdir(model_name)\n",
    "        \n",
    "filepath = model_name + 'model-{epoch:05d}-{loss:.5f}-{categorical_accuracy:.5f}-{val_loss:.5f}-{val_categorical_accuracy:.5f}.h5'\n",
    "\n",
    "checkpoint = ModelCheckpoint(filepath, monitor='val_loss', verbose=1, save_best_only=False, save_weights_only=False, mode='auto', period=1)\n",
    "\n",
    "LR = ReduceLROnPlateau(monitor='val_loss', factor=0.5, patience=2, verbose=1, mode='min', epsilon=0.0001, cooldown=0, min_lr=0.00001)\n",
    "callbacks_list = [checkpoint, LR]"
   ]
  },
  {
   "cell_type": "code",
   "execution_count": 10,
   "metadata": {},
   "outputs": [],
   "source": [
    "if (num_train_sequences%batch_size) == 0:\n",
    "    steps_per_epoch = int(num_train_sequences/batch_size)\n",
    "else:\n",
    "    steps_per_epoch = (num_train_sequences//batch_size) + 1\n",
    "\n",
    "if (num_val_sequences%batch_size) == 0:\n",
    "    validation_steps = int(num_val_sequences/batch_size)\n",
    "else:\n",
    "    validation_steps = (num_val_sequences//batch_size) + 1"
   ]
  },
  {
   "cell_type": "code",
   "execution_count": 11,
   "metadata": {},
   "outputs": [
    {
     "name": "stdout",
     "output_type": "stream",
     "text": [
      "Source path =  /home/datasets/Project_data/train ; batch size = 32\n",
      "Epoch 1/30\n"
     ]
    },
    {
     "name": "stderr",
     "output_type": "stream",
     "text": [
      "2022-10-11 18:29:43.989338: I tensorflow/stream_executor/cuda/cuda_dnn.cc:377] Loaded cuDNN version 8302\n"
     ]
    },
    {
     "name": "stdout",
     "output_type": "stream",
     "text": [
      "21/21 [==============================] - ETA: 0s - loss: 1.6665 - categorical_accuracy: 0.2624Source path =  /home/datasets/Project_data/val ; batch size = 32\n",
      "\n",
      "Epoch 00001: saving model to model_init_2022-10-1118_28_06.777232/model-00001-1.66652-0.26244-1.42095-0.45000.h5\n",
      "21/21 [==============================] - 105s 5s/step - loss: 1.6665 - categorical_accuracy: 0.2624 - val_loss: 1.4209 - val_categorical_accuracy: 0.4500 - lr: 0.0010\n",
      "Epoch 2/30\n",
      "21/21 [==============================] - ETA: 0s - loss: 1.4706 - categorical_accuracy: 0.3605\n",
      "Epoch 00002: saving model to model_init_2022-10-1118_28_06.777232/model-00002-1.47059-0.36048-1.38104-0.52000.h5\n",
      "21/21 [==============================] - 100s 5s/step - loss: 1.4706 - categorical_accuracy: 0.3605 - val_loss: 1.3810 - val_categorical_accuracy: 0.5200 - lr: 0.0010\n",
      "Epoch 3/30\n",
      "21/21 [==============================] - ETA: 0s - loss: 1.3124 - categorical_accuracy: 0.4465\n",
      "Epoch 00003: saving model to model_init_2022-10-1118_28_06.777232/model-00003-1.31237-0.44646-1.23195-0.59000.h5\n",
      "21/21 [==============================] - 95s 5s/step - loss: 1.3124 - categorical_accuracy: 0.4465 - val_loss: 1.2319 - val_categorical_accuracy: 0.5900 - lr: 0.0010\n",
      "Epoch 4/30\n",
      "21/21 [==============================] - ETA: 0s - loss: 1.1764 - categorical_accuracy: 0.5339\n",
      "Epoch 00004: saving model to model_init_2022-10-1118_28_06.777232/model-00004-1.17644-0.53394-1.07207-0.64000.h5\n",
      "21/21 [==============================] - 89s 4s/step - loss: 1.1764 - categorical_accuracy: 0.5339 - val_loss: 1.0721 - val_categorical_accuracy: 0.6400 - lr: 0.0010\n",
      "Epoch 5/30\n",
      "21/21 [==============================] - ETA: 0s - loss: 1.0271 - categorical_accuracy: 0.6033\n",
      "Epoch 00005: saving model to model_init_2022-10-1118_28_06.777232/model-00005-1.02710-0.60332-0.94943-0.63000.h5\n",
      "21/21 [==============================] - 92s 5s/step - loss: 1.0271 - categorical_accuracy: 0.6033 - val_loss: 0.9494 - val_categorical_accuracy: 0.6300 - lr: 0.0010\n",
      "Epoch 6/30\n",
      "21/21 [==============================] - ETA: 0s - loss: 0.8891 - categorical_accuracy: 0.6591\n",
      "Epoch 00006: saving model to model_init_2022-10-1118_28_06.777232/model-00006-0.88906-0.65913-0.88390-0.66000.h5\n",
      "21/21 [==============================] - 93s 5s/step - loss: 0.8891 - categorical_accuracy: 0.6591 - val_loss: 0.8839 - val_categorical_accuracy: 0.6600 - lr: 0.0010\n",
      "Epoch 7/30\n",
      "21/21 [==============================] - ETA: 0s - loss: 0.7904 - categorical_accuracy: 0.7089\n",
      "Epoch 00007: saving model to model_init_2022-10-1118_28_06.777232/model-00007-0.79039-0.70890-0.88019-0.66000.h5\n",
      "21/21 [==============================] - 100s 5s/step - loss: 0.7904 - categorical_accuracy: 0.7089 - val_loss: 0.8802 - val_categorical_accuracy: 0.6600 - lr: 0.0010\n",
      "Epoch 8/30\n",
      "21/21 [==============================] - ETA: 0s - loss: 0.7147 - categorical_accuracy: 0.7285\n",
      "Epoch 00008: saving model to model_init_2022-10-1118_28_06.777232/model-00008-0.71468-0.72851-0.77438-0.67000.h5\n",
      "21/21 [==============================] - 94s 5s/step - loss: 0.7147 - categorical_accuracy: 0.7285 - val_loss: 0.7744 - val_categorical_accuracy: 0.6700 - lr: 0.0010\n",
      "Epoch 9/30\n",
      "21/21 [==============================] - ETA: 0s - loss: 0.6032 - categorical_accuracy: 0.7602\n",
      "Epoch 00009: saving model to model_init_2022-10-1118_28_06.777232/model-00009-0.60324-0.76018-0.85072-0.68000.h5\n",
      "21/21 [==============================] - 93s 5s/step - loss: 0.6032 - categorical_accuracy: 0.7602 - val_loss: 0.8507 - val_categorical_accuracy: 0.6800 - lr: 0.0010\n",
      "Epoch 10/30\n",
      "21/21 [==============================] - ETA: 0s - loss: 0.5744 - categorical_accuracy: 0.7994\n",
      "Epoch 00010: saving model to model_init_2022-10-1118_28_06.777232/model-00010-0.57438-0.79940-0.75295-0.69000.h5\n",
      "21/21 [==============================] - 93s 5s/step - loss: 0.5744 - categorical_accuracy: 0.7994 - val_loss: 0.7530 - val_categorical_accuracy: 0.6900 - lr: 0.0010\n",
      "Epoch 11/30\n",
      "21/21 [==============================] - ETA: 0s - loss: 0.4965 - categorical_accuracy: 0.8205\n",
      "Epoch 00011: saving model to model_init_2022-10-1118_28_06.777232/model-00011-0.49652-0.82051-0.62222-0.77000.h5\n",
      "21/21 [==============================] - 93s 5s/step - loss: 0.4965 - categorical_accuracy: 0.8205 - val_loss: 0.6222 - val_categorical_accuracy: 0.7700 - lr: 0.0010\n",
      "Epoch 12/30\n",
      "21/21 [==============================] - ETA: 0s - loss: 0.4341 - categorical_accuracy: 0.8507\n",
      "Epoch 00012: saving model to model_init_2022-10-1118_28_06.777232/model-00012-0.43410-0.85068-0.60960-0.76000.h5\n",
      "21/21 [==============================] - 88s 4s/step - loss: 0.4341 - categorical_accuracy: 0.8507 - val_loss: 0.6096 - val_categorical_accuracy: 0.7600 - lr: 0.0010\n",
      "Epoch 13/30\n",
      "21/21 [==============================] - ETA: 0s - loss: 0.4106 - categorical_accuracy: 0.8612\n",
      "Epoch 00013: saving model to model_init_2022-10-1118_28_06.777232/model-00013-0.41057-0.86124-0.53766-0.83000.h5\n",
      "21/21 [==============================] - 90s 4s/step - loss: 0.4106 - categorical_accuracy: 0.8612 - val_loss: 0.5377 - val_categorical_accuracy: 0.8300 - lr: 0.0010\n",
      "Epoch 14/30\n",
      "21/21 [==============================] - ETA: 0s - loss: 0.3626 - categorical_accuracy: 0.8733\n",
      "Epoch 00014: saving model to model_init_2022-10-1118_28_06.777232/model-00014-0.36260-0.87330-0.72982-0.77000.h5\n",
      "21/21 [==============================] - 93s 5s/step - loss: 0.3626 - categorical_accuracy: 0.8733 - val_loss: 0.7298 - val_categorical_accuracy: 0.7700 - lr: 0.0010\n",
      "Epoch 15/30\n",
      "21/21 [==============================] - ETA: 0s - loss: 0.3180 - categorical_accuracy: 0.8793\n",
      "Epoch 00015: saving model to model_init_2022-10-1118_28_06.777232/model-00015-0.31804-0.87934-0.67151-0.77000.h5\n",
      "\n",
      "Epoch 00015: ReduceLROnPlateau reducing learning rate to 0.0005000000237487257.\n",
      "21/21 [==============================] - 94s 5s/step - loss: 0.3180 - categorical_accuracy: 0.8793 - val_loss: 0.6715 - val_categorical_accuracy: 0.7700 - lr: 0.0010\n",
      "Epoch 16/30\n",
      "21/21 [==============================] - ETA: 0s - loss: 0.2717 - categorical_accuracy: 0.9110\n",
      "Epoch 00016: saving model to model_init_2022-10-1118_28_06.777232/model-00016-0.27173-0.91101-0.58377-0.78000.h5\n",
      "21/21 [==============================] - 88s 4s/step - loss: 0.2717 - categorical_accuracy: 0.9110 - val_loss: 0.5838 - val_categorical_accuracy: 0.7800 - lr: 5.0000e-04\n",
      "Epoch 17/30\n",
      "21/21 [==============================] - ETA: 0s - loss: 0.2369 - categorical_accuracy: 0.9170\n",
      "Epoch 00017: saving model to model_init_2022-10-1118_28_06.777232/model-00017-0.23691-0.91704-0.53818-0.83000.h5\n",
      "\n",
      "Epoch 00017: ReduceLROnPlateau reducing learning rate to 0.0002500000118743628.\n",
      "21/21 [==============================] - 92s 5s/step - loss: 0.2369 - categorical_accuracy: 0.9170 - val_loss: 0.5382 - val_categorical_accuracy: 0.8300 - lr: 5.0000e-04\n",
      "Epoch 18/30\n",
      "21/21 [==============================] - ETA: 0s - loss: 0.2078 - categorical_accuracy: 0.9427\n",
      "Epoch 00018: saving model to model_init_2022-10-1118_28_06.777232/model-00018-0.20785-0.94268-0.53220-0.82000.h5\n",
      "21/21 [==============================] - 94s 5s/step - loss: 0.2078 - categorical_accuracy: 0.9427 - val_loss: 0.5322 - val_categorical_accuracy: 0.8200 - lr: 2.5000e-04\n",
      "Epoch 19/30\n",
      "21/21 [==============================] - ETA: 0s - loss: 0.1841 - categorical_accuracy: 0.9457\n",
      "Epoch 00019: saving model to model_init_2022-10-1118_28_06.777232/model-00019-0.18413-0.94570-0.58056-0.81000.h5\n",
      "21/21 [==============================] - 94s 5s/step - loss: 0.1841 - categorical_accuracy: 0.9457 - val_loss: 0.5806 - val_categorical_accuracy: 0.8100 - lr: 2.5000e-04\n",
      "Epoch 20/30\n",
      "21/21 [==============================] - ETA: 0s - loss: 0.1758 - categorical_accuracy: 0.9412\n",
      "Epoch 00020: saving model to model_init_2022-10-1118_28_06.777232/model-00020-0.17584-0.94118-0.49738-0.83000.h5\n",
      "21/21 [==============================] - 89s 4s/step - loss: 0.1758 - categorical_accuracy: 0.9412 - val_loss: 0.4974 - val_categorical_accuracy: 0.8300 - lr: 2.5000e-04\n",
      "Epoch 21/30\n",
      "21/21 [==============================] - ETA: 0s - loss: 0.1679 - categorical_accuracy: 0.9578\n",
      "Epoch 00021: saving model to model_init_2022-10-1118_28_06.777232/model-00021-0.16789-0.95777-0.51401-0.82000.h5\n",
      "21/21 [==============================] - 92s 5s/step - loss: 0.1679 - categorical_accuracy: 0.9578 - val_loss: 0.5140 - val_categorical_accuracy: 0.8200 - lr: 2.5000e-04\n",
      "Epoch 22/30\n",
      "21/21 [==============================] - ETA: 0s - loss: 0.1610 - categorical_accuracy: 0.9517\n",
      "Epoch 00022: saving model to model_init_2022-10-1118_28_06.777232/model-00022-0.16095-0.95173-0.55171-0.82000.h5\n",
      "\n",
      "Epoch 00022: ReduceLROnPlateau reducing learning rate to 0.0001250000059371814.\n",
      "21/21 [==============================] - 92s 5s/step - loss: 0.1610 - categorical_accuracy: 0.9517 - val_loss: 0.5517 - val_categorical_accuracy: 0.8200 - lr: 2.5000e-04\n",
      "Epoch 23/30\n",
      "21/21 [==============================] - ETA: 0s - loss: 0.1491 - categorical_accuracy: 0.9638\n",
      "Epoch 00023: saving model to model_init_2022-10-1118_28_06.777232/model-00023-0.14913-0.96380-0.43428-0.85000.h5\n",
      "21/21 [==============================] - 93s 5s/step - loss: 0.1491 - categorical_accuracy: 0.9638 - val_loss: 0.4343 - val_categorical_accuracy: 0.8500 - lr: 1.2500e-04\n",
      "Epoch 24/30\n",
      "21/21 [==============================] - ETA: 0s - loss: 0.1632 - categorical_accuracy: 0.9472\n",
      "Epoch 00024: saving model to model_init_2022-10-1118_28_06.777232/model-00024-0.16323-0.94721-0.52039-0.83000.h5\n",
      "21/21 [==============================] - 89s 4s/step - loss: 0.1632 - categorical_accuracy: 0.9472 - val_loss: 0.5204 - val_categorical_accuracy: 0.8300 - lr: 1.2500e-04\n",
      "Epoch 25/30\n",
      "21/21 [==============================] - ETA: 0s - loss: 0.1661 - categorical_accuracy: 0.9457\n",
      "Epoch 00025: saving model to model_init_2022-10-1118_28_06.777232/model-00025-0.16607-0.94570-0.51833-0.83000.h5\n",
      "\n",
      "Epoch 00025: ReduceLROnPlateau reducing learning rate to 6.25000029685907e-05.\n",
      "21/21 [==============================] - 92s 5s/step - loss: 0.1661 - categorical_accuracy: 0.9457 - val_loss: 0.5183 - val_categorical_accuracy: 0.8300 - lr: 1.2500e-04\n",
      "Epoch 26/30\n",
      "21/21 [==============================] - ETA: 0s - loss: 0.1597 - categorical_accuracy: 0.9563\n",
      "Epoch 00026: saving model to model_init_2022-10-1118_28_06.777232/model-00026-0.15972-0.95626-0.60486-0.78000.h5\n",
      "21/21 [==============================] - 92s 5s/step - loss: 0.1597 - categorical_accuracy: 0.9563 - val_loss: 0.6049 - val_categorical_accuracy: 0.7800 - lr: 6.2500e-05\n",
      "Epoch 27/30\n",
      "21/21 [==============================] - ETA: 0s - loss: 0.1406 - categorical_accuracy: 0.9668\n",
      "Epoch 00027: saving model to model_init_2022-10-1118_28_06.777232/model-00027-0.14063-0.96682-0.42514-0.85000.h5\n",
      "21/21 [==============================] - 92s 5s/step - loss: 0.1406 - categorical_accuracy: 0.9668 - val_loss: 0.4251 - val_categorical_accuracy: 0.8500 - lr: 6.2500e-05\n",
      "Epoch 28/30\n",
      "21/21 [==============================] - ETA: 0s - loss: 0.1563 - categorical_accuracy: 0.9517\n",
      "Epoch 00028: saving model to model_init_2022-10-1118_28_06.777232/model-00028-0.15625-0.95173-0.52682-0.81000.h5\n",
      "21/21 [==============================] - 88s 4s/step - loss: 0.1563 - categorical_accuracy: 0.9517 - val_loss: 0.5268 - val_categorical_accuracy: 0.8100 - lr: 6.2500e-05\n",
      "Epoch 29/30\n",
      "21/21 [==============================] - ETA: 0s - loss: 0.1470 - categorical_accuracy: 0.9548\n",
      "Epoch 00029: saving model to model_init_2022-10-1118_28_06.777232/model-00029-0.14699-0.95475-0.49911-0.83000.h5\n",
      "\n",
      "Epoch 00029: ReduceLROnPlateau reducing learning rate to 3.125000148429535e-05.\n",
      "21/21 [==============================] - 92s 5s/step - loss: 0.1470 - categorical_accuracy: 0.9548 - val_loss: 0.4991 - val_categorical_accuracy: 0.8300 - lr: 6.2500e-05\n",
      "Epoch 30/30\n",
      "21/21 [==============================] - ETA: 0s - loss: 0.1707 - categorical_accuracy: 0.9517\n",
      "Epoch 00030: saving model to model_init_2022-10-1118_28_06.777232/model-00030-0.17071-0.95173-0.38649-0.88000.h5\n",
      "21/21 [==============================] - 92s 5s/step - loss: 0.1707 - categorical_accuracy: 0.9517 - val_loss: 0.3865 - val_categorical_accuracy: 0.8800 - lr: 3.1250e-05\n"
     ]
    }
   ],
   "source": [
    "conv3d_final = model.fit_generator(train_generator, steps_per_epoch=steps_per_epoch, epochs=num_epochs, verbose=1, \n",
    "                    callbacks=callbacks_list, validation_data=val_generator, \n",
    "                    validation_steps=validation_steps, class_weight=None, workers=1, initial_epoch=0)"
   ]
  },
  {
   "cell_type": "code",
   "execution_count": 13,
   "metadata": {},
   "outputs": [
    {
     "data": {
      "text/plain": [
       "<matplotlib.legend.Legend at 0x7f7ec3624e80>"
      ]
     },
     "execution_count": 13,
     "metadata": {},
     "output_type": "execute_result"
    },
    {
     "data": {
      "image/png": "[encoded data removed]",
      "text/plain": [
       "<Figure size 1440x432 with 2 Axes>"
      ]
     },
     "metadata": {
      "needs_background": "light"
     },
     "output_type": "display_data"
    }
   ],
   "source": [
    "plt.figure(figsize=(20,6))\n",
    "ax1 = plt.subplot(121)\n",
    "ax1 = plt.plot(conv3d_final.history['loss'])\n",
    "ax1 = plt.plot(conv3d_final.history['val_loss'])\n",
    "plt.title('model loss')\n",
    "plt.ylabel('loss')\n",
    "plt.xlabel('epoch')\n",
    "plt.legend(['train', 'validation'], loc='lower left')\n",
    "ax2 = plt.subplot(122)\n",
    "ax2 = plt.plot(conv3d_final.history['categorical_accuracy'])\n",
    "ax2 = plt.plot(conv3d_final.history['val_categorical_accuracy'])\n",
    "plt.title('model accuracy')\n",
    "plt.ylabel('categorical_accuracy')\n",
    "plt.xlabel('epoch')\n",
    "plt.legend(['train', 'validation'], loc='lower left')"
   ]
  },
  {
   "cell_type": "code",
   "execution_count": null,
   "metadata": {},
   "outputs": [],
   "source": []
  }
 ],
 "metadata": {
  "colab": {
   "collapsed_sections": [],
   "name": "Gesture_Recognition_Assignment.ipynb",
   "provenance": []
  },
  "kernelspec": {
   "display_name": "Python 3 (ipykernel)",
   "language": "python",
   "name": "python3"
  },
  "language_info": {
   "codemirror_mode": {
    "name": "ipython",
    "version": 3
   },
   "file_extension": ".py",
   "mimetype": "text/x-python",
   "name": "python",
   "nbconvert_exporter": "python",
   "pygments_lexer": "ipython3",
   "version": "3.8.10"
  }
 },
 "nbformat": 4,
 "nbformat_minor": 4
}
